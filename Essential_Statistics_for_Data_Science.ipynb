{
 "cells": [
  {
   "cell_type": "markdown",
   "metadata": {},
   "source": [
    "# Statistics for Data Science.\n"
   ]
  },
  {
   "cell_type": "markdown",
   "metadata": {},
   "source": [
    "- URL: https://www.learndatasci.com/tutorials/data-science-statistics-using-python/"
   ]
  },
  {
   "cell_type": "markdown",
   "metadata": {},
   "source": [
    "#### By: Sagun Shakya\n",
    "- GITAM Institute of Science"
   ]
  },
  {
   "cell_type": "markdown",
   "metadata": {},
   "source": [
    "## Description of the problem:"
   ]
  },
  {
   "cell_type": "markdown",
   "metadata": {},
   "source": [
    "- A public school administrator makes statistical research regarding the poor performance of the students in the school."
   ]
  },
  {
   "cell_type": "markdown",
   "metadata": {},
   "source": [
    "## Data Set:\n",
    "- https://raw.githubusercontent.com/LearnDataSci/article-resources/master/Essential%20Statistics/middle_tn_schools.csv"
   ]
  },
  {
   "cell_type": "markdown",
   "metadata": {},
   "source": [
    "## Parameters used with their description:\n",
    "- __Variable:                             Definition__\n",
    "- name\t  :                      The name of the school\n",
    "- school_rating\t :               The school's rating\n",
    "- size\t          :              The school's student count\n",
    "- reduced_lunch\t   :             The percentage of students that got enrolled in reduced lunch\n",
    "- state_percentile_16:\t        The school's percentile in 2016\n",
    "- state_percentile_15:\t        The school's percentile in 2015\n",
    "- stu_teach_ratio\t  :          The school's student to teacher ratio\n",
    "- school_type\t       :         The type of school (public, private, magnet, alternative, etc)\n",
    "- avg_score_15\t        :        The school's average test score for 2015\n",
    "- avg_score_16\t         :       The school's average test score for 2016\n",
    "- full_time_teachers\t  :      The school's total full time teachers\n",
    "- percent_black\t           :     Percentage of black students at the school\n",
    "- percent_white\t            :    Percentage of white students at the school\n",
    "- percent_asian\t             :   Percentage of asian students at the school\n",
    "- percent_hispanic\t          :  Percentage of hispanic students at the school\n",
    "\n"
   ]
  },
  {
   "cell_type": "markdown",
   "metadata": {},
   "source": [
    "- NOTE:\n",
    "    - __reduced_lunch__ is a variable measuring the average percentage of students per school enrolled in a federal program that provides lunches for students from lower-income households."
   ]
  },
  {
   "cell_type": "markdown",
   "metadata": {},
   "source": [
    "## Types of statistics used:\n",
    "- 1. __Descriptive statistics__: \n",
    "    - identify patterns in the data.\n",
    "    - two measures used to describe the data: central tendency and deviation.\n",
    "    \n",
    "- 2. __Inferential Statistics__:\n",
    "    - allow us to make hypotheses (or inferences) about a sample that can be applied to the population."
   ]
  },
  {
   "cell_type": "code",
   "execution_count": 1,
   "metadata": {},
   "outputs": [],
   "source": [
    "#imports for the problem.\n",
    "\n",
    "import pandas as pd\n",
    "import matplotlib.pyplot as plt\n",
    "import seaborn as sns\n",
    "import copy\n",
    "import os"
   ]
  },
  {
   "cell_type": "code",
   "execution_count": 2,
   "metadata": {},
   "outputs": [],
   "source": [
    "#Changing the working directory to the folder containing the .csv file.\n",
    "\n",
    "os.chdir('D:\\Sagun Shakya\\Python\\Basic-Statistics-and-Visualization-master')"
   ]
  },
  {
   "cell_type": "code",
   "execution_count": 3,
   "metadata": {},
   "outputs": [],
   "source": [
    "df = pd.read_csv('middle_tn_schools.csv', index_col = 'name')\n",
    "school = copy.deepcopy(df)                #creating a virtual copy of the original dataframe."
   ]
  },
  {
   "cell_type": "markdown",
   "metadata": {},
   "source": [
    "## Checking for null values."
   ]
  },
  {
   "cell_type": "code",
   "execution_count": 4,
   "metadata": {},
   "outputs": [
    {
     "data": {
      "text/plain": [
       "school_rating          0\n",
       "size                   0\n",
       "reduced_lunch          0\n",
       "state_percentile_16    0\n",
       "state_percentile_15    6\n",
       "stu_teach_ratio        0\n",
       "school_type            0\n",
       "avg_score_15           6\n",
       "avg_score_16           0\n",
       "full_time_teachers     0\n",
       "percent_black          0\n",
       "percent_white          0\n",
       "percent_asian          0\n",
       "percent_hispanic       0\n",
       "dtype: int64"
      ]
     },
     "execution_count": 4,
     "metadata": {},
     "output_type": "execute_result"
    }
   ],
   "source": [
    "school.isnull().sum()"
   ]
  },
  {
   "cell_type": "code",
   "execution_count": 5,
   "metadata": {},
   "outputs": [
    {
     "data": {
      "text/plain": [
       "school_rating          0\n",
       "size                   0\n",
       "reduced_lunch          0\n",
       "state_percentile_16    0\n",
       "state_percentile_15    0\n",
       "stu_teach_ratio        0\n",
       "school_type            0\n",
       "avg_score_15           0\n",
       "avg_score_16           0\n",
       "full_time_teachers     0\n",
       "percent_black          0\n",
       "percent_white          0\n",
       "percent_asian          0\n",
       "percent_hispanic       0\n",
       "dtype: int64"
      ]
     },
     "execution_count": 5,
     "metadata": {},
     "output_type": "execute_result"
    }
   ],
   "source": [
    "#dropping null values.\n",
    "school.dropna(inplace = True)\n",
    "school.isnull().sum()"
   ]
  },
  {
   "cell_type": "markdown",
   "metadata": {},
   "source": [
    "## Dimension of the dataframe."
   ]
  },
  {
   "cell_type": "code",
   "execution_count": 6,
   "metadata": {},
   "outputs": [
    {
     "data": {
      "text/plain": [
       "(341, 14)"
      ]
     },
     "execution_count": 6,
     "metadata": {},
     "output_type": "execute_result"
    }
   ],
   "source": [
    "school.shape"
   ]
  },
  {
   "cell_type": "code",
   "execution_count": 7,
   "metadata": {},
   "outputs": [],
   "source": [
    "sub = school[['reduced_lunch', 'school_rating']]"
   ]
  },
  {
   "cell_type": "markdown",
   "metadata": {},
   "source": [
    "## Statistical Summary for the numerical data."
   ]
  },
  {
   "cell_type": "code",
   "execution_count": 8,
   "metadata": {},
   "outputs": [
    {
     "data": {
      "text/html": [
       "<div>\n",
       "<style scoped>\n",
       "    .dataframe tbody tr th:only-of-type {\n",
       "        vertical-align: middle;\n",
       "    }\n",
       "\n",
       "    .dataframe tbody tr th {\n",
       "        vertical-align: top;\n",
       "    }\n",
       "\n",
       "    .dataframe thead th {\n",
       "        text-align: right;\n",
       "    }\n",
       "</style>\n",
       "<table border=\"1\" class=\"dataframe\">\n",
       "  <thead>\n",
       "    <tr style=\"text-align: right;\">\n",
       "      <th></th>\n",
       "      <th>school_rating</th>\n",
       "      <th>size</th>\n",
       "      <th>reduced_lunch</th>\n",
       "      <th>state_percentile_16</th>\n",
       "      <th>state_percentile_15</th>\n",
       "      <th>stu_teach_ratio</th>\n",
       "      <th>avg_score_15</th>\n",
       "      <th>avg_score_16</th>\n",
       "      <th>full_time_teachers</th>\n",
       "      <th>percent_black</th>\n",
       "      <th>percent_white</th>\n",
       "      <th>percent_asian</th>\n",
       "      <th>percent_hispanic</th>\n",
       "    </tr>\n",
       "  </thead>\n",
       "  <tbody>\n",
       "    <tr>\n",
       "      <th>count</th>\n",
       "      <td>341.000000</td>\n",
       "      <td>341.000000</td>\n",
       "      <td>341.000000</td>\n",
       "      <td>341.000000</td>\n",
       "      <td>341.000000</td>\n",
       "      <td>341.000000</td>\n",
       "      <td>341.000000</td>\n",
       "      <td>341.000000</td>\n",
       "      <td>341.000000</td>\n",
       "      <td>341.000000</td>\n",
       "      <td>341.000000</td>\n",
       "      <td>341.000000</td>\n",
       "      <td>341.000000</td>\n",
       "    </tr>\n",
       "    <tr>\n",
       "      <th>mean</th>\n",
       "      <td>2.982405</td>\n",
       "      <td>704.923754</td>\n",
       "      <td>49.920821</td>\n",
       "      <td>59.063930</td>\n",
       "      <td>58.249267</td>\n",
       "      <td>15.459824</td>\n",
       "      <td>57.004692</td>\n",
       "      <td>57.261877</td>\n",
       "      <td>45.302053</td>\n",
       "      <td>21.007331</td>\n",
       "      <td>61.803519</td>\n",
       "      <td>2.670088</td>\n",
       "      <td>11.186510</td>\n",
       "    </tr>\n",
       "    <tr>\n",
       "      <th>std</th>\n",
       "      <td>1.685487</td>\n",
       "      <td>400.970851</td>\n",
       "      <td>25.379175</td>\n",
       "      <td>32.445386</td>\n",
       "      <td>32.702630</td>\n",
       "      <td>5.728366</td>\n",
       "      <td>26.696450</td>\n",
       "      <td>27.873337</td>\n",
       "      <td>22.025513</td>\n",
       "      <td>23.314544</td>\n",
       "      <td>27.066237</td>\n",
       "      <td>3.125867</td>\n",
       "      <td>12.082311</td>\n",
       "    </tr>\n",
       "    <tr>\n",
       "      <th>min</th>\n",
       "      <td>0.000000</td>\n",
       "      <td>53.000000</td>\n",
       "      <td>2.000000</td>\n",
       "      <td>0.500000</td>\n",
       "      <td>0.600000</td>\n",
       "      <td>7.300000</td>\n",
       "      <td>1.500000</td>\n",
       "      <td>1.900000</td>\n",
       "      <td>2.000000</td>\n",
       "      <td>0.000000</td>\n",
       "      <td>1.100000</td>\n",
       "      <td>0.000000</td>\n",
       "      <td>0.000000</td>\n",
       "    </tr>\n",
       "    <tr>\n",
       "      <th>25%</th>\n",
       "      <td>2.000000</td>\n",
       "      <td>424.000000</td>\n",
       "      <td>30.000000</td>\n",
       "      <td>31.700000</td>\n",
       "      <td>27.100000</td>\n",
       "      <td>13.700000</td>\n",
       "      <td>37.600000</td>\n",
       "      <td>37.600000</td>\n",
       "      <td>30.000000</td>\n",
       "      <td>3.700000</td>\n",
       "      <td>41.400000</td>\n",
       "      <td>0.800000</td>\n",
       "      <td>3.800000</td>\n",
       "    </tr>\n",
       "    <tr>\n",
       "      <th>50%</th>\n",
       "      <td>3.000000</td>\n",
       "      <td>606.000000</td>\n",
       "      <td>50.000000</td>\n",
       "      <td>67.600000</td>\n",
       "      <td>65.800000</td>\n",
       "      <td>15.000000</td>\n",
       "      <td>61.800000</td>\n",
       "      <td>60.800000</td>\n",
       "      <td>41.000000</td>\n",
       "      <td>13.500000</td>\n",
       "      <td>68.700000</td>\n",
       "      <td>1.600000</td>\n",
       "      <td>6.400000</td>\n",
       "    </tr>\n",
       "    <tr>\n",
       "      <th>75%</th>\n",
       "      <td>4.000000</td>\n",
       "      <td>851.000000</td>\n",
       "      <td>71.000000</td>\n",
       "      <td>88.200000</td>\n",
       "      <td>88.600000</td>\n",
       "      <td>16.600000</td>\n",
       "      <td>79.600000</td>\n",
       "      <td>80.500000</td>\n",
       "      <td>55.000000</td>\n",
       "      <td>28.000000</td>\n",
       "      <td>85.900000</td>\n",
       "      <td>3.100000</td>\n",
       "      <td>13.800000</td>\n",
       "    </tr>\n",
       "    <tr>\n",
       "      <th>max</th>\n",
       "      <td>5.000000</td>\n",
       "      <td>2314.000000</td>\n",
       "      <td>98.000000</td>\n",
       "      <td>99.800000</td>\n",
       "      <td>99.800000</td>\n",
       "      <td>111.000000</td>\n",
       "      <td>99.000000</td>\n",
       "      <td>98.900000</td>\n",
       "      <td>140.000000</td>\n",
       "      <td>97.400000</td>\n",
       "      <td>99.700000</td>\n",
       "      <td>21.100000</td>\n",
       "      <td>65.200000</td>\n",
       "    </tr>\n",
       "  </tbody>\n",
       "</table>\n",
       "</div>"
      ],
      "text/plain": [
       "       school_rating         size  reduced_lunch  state_percentile_16  \\\n",
       "count     341.000000   341.000000     341.000000           341.000000   \n",
       "mean        2.982405   704.923754      49.920821            59.063930   \n",
       "std         1.685487   400.970851      25.379175            32.445386   \n",
       "min         0.000000    53.000000       2.000000             0.500000   \n",
       "25%         2.000000   424.000000      30.000000            31.700000   \n",
       "50%         3.000000   606.000000      50.000000            67.600000   \n",
       "75%         4.000000   851.000000      71.000000            88.200000   \n",
       "max         5.000000  2314.000000      98.000000            99.800000   \n",
       "\n",
       "       state_percentile_15  stu_teach_ratio  avg_score_15  avg_score_16  \\\n",
       "count           341.000000       341.000000    341.000000    341.000000   \n",
       "mean             58.249267        15.459824     57.004692     57.261877   \n",
       "std              32.702630         5.728366     26.696450     27.873337   \n",
       "min               0.600000         7.300000      1.500000      1.900000   \n",
       "25%              27.100000        13.700000     37.600000     37.600000   \n",
       "50%              65.800000        15.000000     61.800000     60.800000   \n",
       "75%              88.600000        16.600000     79.600000     80.500000   \n",
       "max              99.800000       111.000000     99.000000     98.900000   \n",
       "\n",
       "       full_time_teachers  percent_black  percent_white  percent_asian  \\\n",
       "count          341.000000     341.000000     341.000000     341.000000   \n",
       "mean            45.302053      21.007331      61.803519       2.670088   \n",
       "std             22.025513      23.314544      27.066237       3.125867   \n",
       "min              2.000000       0.000000       1.100000       0.000000   \n",
       "25%             30.000000       3.700000      41.400000       0.800000   \n",
       "50%             41.000000      13.500000      68.700000       1.600000   \n",
       "75%             55.000000      28.000000      85.900000       3.100000   \n",
       "max            140.000000      97.400000      99.700000      21.100000   \n",
       "\n",
       "       percent_hispanic  \n",
       "count        341.000000  \n",
       "mean          11.186510  \n",
       "std           12.082311  \n",
       "min            0.000000  \n",
       "25%            3.800000  \n",
       "50%            6.400000  \n",
       "75%           13.800000  \n",
       "max           65.200000  "
      ]
     },
     "execution_count": 8,
     "metadata": {},
     "output_type": "execute_result"
    }
   ],
   "source": [
    "school.describe()"
   ]
  },
  {
   "cell_type": "markdown",
   "metadata": {},
   "source": [
    "- __reduced_lunch__ is a good proxy for household income which, in turn, must be correlated with the schools' performance."
   ]
  },
  {
   "cell_type": "markdown",
   "metadata": {},
   "source": [
    "- Using __groupby__  and __describe__ method."
   ]
  },
  {
   "cell_type": "code",
   "execution_count": 12,
   "metadata": {},
   "outputs": [
    {
     "data": {
      "text/html": [
       "<div>\n",
       "<style scoped>\n",
       "    .dataframe tbody tr th:only-of-type {\n",
       "        vertical-align: middle;\n",
       "    }\n",
       "\n",
       "    .dataframe tbody tr th {\n",
       "        vertical-align: top;\n",
       "    }\n",
       "\n",
       "    .dataframe thead tr th {\n",
       "        text-align: left;\n",
       "    }\n",
       "\n",
       "    .dataframe thead tr:last-of-type th {\n",
       "        text-align: right;\n",
       "    }\n",
       "</style>\n",
       "<table border=\"1\" class=\"dataframe\">\n",
       "  <thead>\n",
       "    <tr>\n",
       "      <th></th>\n",
       "      <th colspan=\"8\" halign=\"left\">reduced_lunch</th>\n",
       "    </tr>\n",
       "    <tr>\n",
       "      <th></th>\n",
       "      <th>count</th>\n",
       "      <th>mean</th>\n",
       "      <th>std</th>\n",
       "      <th>min</th>\n",
       "      <th>25%</th>\n",
       "      <th>50%</th>\n",
       "      <th>75%</th>\n",
       "      <th>max</th>\n",
       "    </tr>\n",
       "    <tr>\n",
       "      <th>school_rating</th>\n",
       "      <th></th>\n",
       "      <th></th>\n",
       "      <th></th>\n",
       "      <th></th>\n",
       "      <th></th>\n",
       "      <th></th>\n",
       "      <th></th>\n",
       "      <th></th>\n",
       "    </tr>\n",
       "  </thead>\n",
       "  <tbody>\n",
       "    <tr>\n",
       "      <th>0.0</th>\n",
       "      <td>42.0</td>\n",
       "      <td>83.500000</td>\n",
       "      <td>8.903959</td>\n",
       "      <td>53.0</td>\n",
       "      <td>79.25</td>\n",
       "      <td>86.0</td>\n",
       "      <td>90.00</td>\n",
       "      <td>98.0</td>\n",
       "    </tr>\n",
       "    <tr>\n",
       "      <th>1.0</th>\n",
       "      <td>38.0</td>\n",
       "      <td>74.894737</td>\n",
       "      <td>11.943085</td>\n",
       "      <td>53.0</td>\n",
       "      <td>65.00</td>\n",
       "      <td>74.5</td>\n",
       "      <td>84.75</td>\n",
       "      <td>98.0</td>\n",
       "    </tr>\n",
       "    <tr>\n",
       "      <th>2.0</th>\n",
       "      <td>43.0</td>\n",
       "      <td>63.976744</td>\n",
       "      <td>11.933323</td>\n",
       "      <td>37.0</td>\n",
       "      <td>54.50</td>\n",
       "      <td>62.0</td>\n",
       "      <td>73.50</td>\n",
       "      <td>88.0</td>\n",
       "    </tr>\n",
       "    <tr>\n",
       "      <th>3.0</th>\n",
       "      <td>56.0</td>\n",
       "      <td>50.285714</td>\n",
       "      <td>13.550866</td>\n",
       "      <td>24.0</td>\n",
       "      <td>41.00</td>\n",
       "      <td>48.5</td>\n",
       "      <td>63.00</td>\n",
       "      <td>78.0</td>\n",
       "    </tr>\n",
       "    <tr>\n",
       "      <th>4.0</th>\n",
       "      <td>85.0</td>\n",
       "      <td>40.458824</td>\n",
       "      <td>16.002643</td>\n",
       "      <td>4.0</td>\n",
       "      <td>30.00</td>\n",
       "      <td>41.0</td>\n",
       "      <td>50.00</td>\n",
       "      <td>86.0</td>\n",
       "    </tr>\n",
       "    <tr>\n",
       "      <th>5.0</th>\n",
       "      <td>77.0</td>\n",
       "      <td>21.610390</td>\n",
       "      <td>17.766879</td>\n",
       "      <td>2.0</td>\n",
       "      <td>8.00</td>\n",
       "      <td>19.0</td>\n",
       "      <td>30.00</td>\n",
       "      <td>87.0</td>\n",
       "    </tr>\n",
       "  </tbody>\n",
       "</table>\n",
       "</div>"
      ],
      "text/plain": [
       "              reduced_lunch                                                  \\\n",
       "                      count       mean        std   min    25%   50%    75%   \n",
       "school_rating                                                                 \n",
       "0.0                    42.0  83.500000   8.903959  53.0  79.25  86.0  90.00   \n",
       "1.0                    38.0  74.894737  11.943085  53.0  65.00  74.5  84.75   \n",
       "2.0                    43.0  63.976744  11.933323  37.0  54.50  62.0  73.50   \n",
       "3.0                    56.0  50.285714  13.550866  24.0  41.00  48.5  63.00   \n",
       "4.0                    85.0  40.458824  16.002643   4.0  30.00  41.0  50.00   \n",
       "5.0                    77.0  21.610390  17.766879   2.0   8.00  19.0  30.00   \n",
       "\n",
       "                     \n",
       "                max  \n",
       "school_rating        \n",
       "0.0            98.0  \n",
       "1.0            98.0  \n",
       "2.0            88.0  \n",
       "3.0            78.0  \n",
       "4.0            86.0  \n",
       "5.0            87.0  "
      ]
     },
     "execution_count": 12,
     "metadata": {},
     "output_type": "execute_result"
    }
   ],
   "source": [
    "sub = school[['reduced_lunch', 'school_rating']]\n",
    "sub.groupby(['school_rating']).describe()"
   ]
  },
  {
   "cell_type": "code",
   "execution_count": 13,
   "metadata": {},
   "outputs": [
    {
     "data": {
      "text/html": [
       "<div>\n",
       "<style scoped>\n",
       "    .dataframe tbody tr th:only-of-type {\n",
       "        vertical-align: middle;\n",
       "    }\n",
       "\n",
       "    .dataframe tbody tr th {\n",
       "        vertical-align: top;\n",
       "    }\n",
       "\n",
       "    .dataframe thead th {\n",
       "        text-align: right;\n",
       "    }\n",
       "</style>\n",
       "<table border=\"1\" class=\"dataframe\">\n",
       "  <thead>\n",
       "    <tr style=\"text-align: right;\">\n",
       "      <th></th>\n",
       "      <th>reduced_lunch</th>\n",
       "      <th>school_rating</th>\n",
       "    </tr>\n",
       "  </thead>\n",
       "  <tbody>\n",
       "    <tr>\n",
       "      <th>reduced_lunch</th>\n",
       "      <td>1.000000</td>\n",
       "      <td>-0.818037</td>\n",
       "    </tr>\n",
       "    <tr>\n",
       "      <th>school_rating</th>\n",
       "      <td>-0.818037</td>\n",
       "      <td>1.000000</td>\n",
       "    </tr>\n",
       "  </tbody>\n",
       "</table>\n",
       "</div>"
      ],
      "text/plain": [
       "               reduced_lunch  school_rating\n",
       "reduced_lunch       1.000000      -0.818037\n",
       "school_rating      -0.818037       1.000000"
      ]
     },
     "execution_count": 13,
     "metadata": {},
     "output_type": "execute_result"
    }
   ],
   "source": [
    "sub.corr()"
   ]
  },
  {
   "cell_type": "markdown",
   "metadata": {},
   "source": [
    "### Creating a Box - and - Whisker Plot."
   ]
  },
  {
   "cell_type": "code",
   "execution_count": 14,
   "metadata": {},
   "outputs": [
    {
     "data": {
      "image/png": "[encoded data removed]",
      "text/plain": [
       "<Figure size 720x576 with 1 Axes>"
      ]
     },
     "metadata": {},
     "output_type": "display_data"
    }
   ],
   "source": [
    "plt.figure(figsize = (10,8))\n",
    "sns.set(style = 'whitegrid', font_scale = 1.2) \n",
    "\n",
    "sns.boxplot(x = 'reduced_lunch', y = 'school_rating', data = school, palette = 'Set2', orient='h')\n",
    "plt.show()"
   ]
  },
  {
   "cell_type": "markdown",
   "metadata": {},
   "source": [
    "#### Conclusion:\n",
    "- The higher rated schools have lower proportions of students having the 'reduced_lunch' scheme."
   ]
  },
  {
   "cell_type": "markdown",
   "metadata": {},
   "source": [
    "## Linear Correlation between 'reduced_lunch' and 'school_rating'."
   ]
  },
  {
   "cell_type": "code",
   "execution_count": 16,
   "metadata": {},
   "outputs": [
    {
     "data": {
      "image/png": "[encoded data removed]",
      "text/plain": [
       "<Figure size 720x576 with 1 Axes>"
      ]
     },
     "metadata": {},
     "output_type": "display_data"
    }
   ],
   "source": [
    "plt.figure(figsize = (10,8))\n",
    "sns.set(style = 'whitegrid', font_scale = 1.2) \n",
    "\n",
    "sns.regplot(y = school['school_rating'], x= school['reduced_lunch'], scatter= True, marker='o', color = 'b' )\n",
    "plt.show()"
   ]
  },
  {
   "cell_type": "markdown",
   "metadata": {},
   "source": [
    "#### Conclusion:\n",
    "- There exists a negative correlation between these two variables meaning that as the number of students having the 'reduced_lunch' scheme increases in a school, the rating can decrease (can be set up for hypothesis testing in the later stages of the same research)."
   ]
  },
  {
   "cell_type": "markdown",
   "metadata": {},
   "source": [
    "## Creating a heatmap (correlation matrix) for checking which variables further affect the school_rating."
   ]
  },
  {
   "cell_type": "code",
   "execution_count": 17,
   "metadata": {},
   "outputs": [
    {
     "data": {
      "text/html": [
       "<div>\n",
       "<style scoped>\n",
       "    .dataframe tbody tr th:only-of-type {\n",
       "        vertical-align: middle;\n",
       "    }\n",
       "\n",
       "    .dataframe tbody tr th {\n",
       "        vertical-align: top;\n",
       "    }\n",
       "\n",
       "    .dataframe thead th {\n",
       "        text-align: right;\n",
       "    }\n",
       "</style>\n",
       "<table border=\"1\" class=\"dataframe\">\n",
       "  <thead>\n",
       "    <tr style=\"text-align: right;\">\n",
       "      <th></th>\n",
       "      <th>school_rating</th>\n",
       "      <th>size</th>\n",
       "      <th>reduced_lunch</th>\n",
       "      <th>state_percentile_16</th>\n",
       "      <th>state_percentile_15</th>\n",
       "      <th>stu_teach_ratio</th>\n",
       "      <th>avg_score_15</th>\n",
       "      <th>avg_score_16</th>\n",
       "      <th>full_time_teachers</th>\n",
       "      <th>percent_black</th>\n",
       "      <th>percent_white</th>\n",
       "      <th>percent_asian</th>\n",
       "      <th>percent_hispanic</th>\n",
       "    </tr>\n",
       "  </thead>\n",
       "  <tbody>\n",
       "    <tr>\n",
       "      <th>school_rating</th>\n",
       "      <td>1.000000</td>\n",
       "      <td>0.174402</td>\n",
       "      <td>-0.818037</td>\n",
       "      <td>0.985476</td>\n",
       "      <td>0.937817</td>\n",
       "      <td>0.199151</td>\n",
       "      <td>0.941336</td>\n",
       "      <td>0.982491</td>\n",
       "      <td>0.114626</td>\n",
       "      <td>-0.606631</td>\n",
       "      <td>0.656134</td>\n",
       "      <td>0.156934</td>\n",
       "      <td>-0.387348</td>\n",
       "    </tr>\n",
       "    <tr>\n",
       "      <th>size</th>\n",
       "      <td>0.174402</td>\n",
       "      <td>1.000000</td>\n",
       "      <td>-0.268493</td>\n",
       "      <td>0.165095</td>\n",
       "      <td>0.162887</td>\n",
       "      <td>0.140678</td>\n",
       "      <td>0.161788</td>\n",
       "      <td>0.136475</td>\n",
       "      <td>0.966971</td>\n",
       "      <td>-0.136791</td>\n",
       "      <td>0.092990</td>\n",
       "      <td>0.189146</td>\n",
       "      <td>-0.017239</td>\n",
       "    </tr>\n",
       "    <tr>\n",
       "      <th>reduced_lunch</th>\n",
       "      <td>-0.818037</td>\n",
       "      <td>-0.268493</td>\n",
       "      <td>1.000000</td>\n",
       "      <td>-0.819148</td>\n",
       "      <td>-0.825085</td>\n",
       "      <td>-0.201650</td>\n",
       "      <td>-0.839536</td>\n",
       "      <td>-0.820004</td>\n",
       "      <td>-0.201282</td>\n",
       "      <td>0.561948</td>\n",
       "      <td>-0.674078</td>\n",
       "      <td>-0.220604</td>\n",
       "      <td>0.499779</td>\n",
       "    </tr>\n",
       "    <tr>\n",
       "      <th>state_percentile_16</th>\n",
       "      <td>0.985476</td>\n",
       "      <td>0.165095</td>\n",
       "      <td>-0.819148</td>\n",
       "      <td>1.000000</td>\n",
       "      <td>0.949694</td>\n",
       "      <td>0.181639</td>\n",
       "      <td>0.949197</td>\n",
       "      <td>0.994116</td>\n",
       "      <td>0.110210</td>\n",
       "      <td>-0.587216</td>\n",
       "      <td>0.643632</td>\n",
       "      <td>0.145926</td>\n",
       "      <td>-0.395358</td>\n",
       "    </tr>\n",
       "    <tr>\n",
       "      <th>state_percentile_15</th>\n",
       "      <td>0.937817</td>\n",
       "      <td>0.162887</td>\n",
       "      <td>-0.825085</td>\n",
       "      <td>0.949694</td>\n",
       "      <td>1.000000</td>\n",
       "      <td>0.141066</td>\n",
       "      <td>0.991847</td>\n",
       "      <td>0.946101</td>\n",
       "      <td>0.109569</td>\n",
       "      <td>-0.564929</td>\n",
       "      <td>0.612183</td>\n",
       "      <td>0.181822</td>\n",
       "      <td>-0.371708</td>\n",
       "    </tr>\n",
       "    <tr>\n",
       "      <th>stu_teach_ratio</th>\n",
       "      <td>0.199151</td>\n",
       "      <td>0.140678</td>\n",
       "      <td>-0.201650</td>\n",
       "      <td>0.181639</td>\n",
       "      <td>0.141066</td>\n",
       "      <td>1.000000</td>\n",
       "      <td>0.147963</td>\n",
       "      <td>0.168907</td>\n",
       "      <td>0.018855</td>\n",
       "      <td>-0.118310</td>\n",
       "      <td>0.131754</td>\n",
       "      <td>0.090224</td>\n",
       "      <td>-0.090983</td>\n",
       "    </tr>\n",
       "    <tr>\n",
       "      <th>avg_score_15</th>\n",
       "      <td>0.941336</td>\n",
       "      <td>0.161788</td>\n",
       "      <td>-0.839536</td>\n",
       "      <td>0.949197</td>\n",
       "      <td>0.991847</td>\n",
       "      <td>0.147963</td>\n",
       "      <td>1.000000</td>\n",
       "      <td>0.953714</td>\n",
       "      <td>0.105186</td>\n",
       "      <td>-0.595062</td>\n",
       "      <td>0.637500</td>\n",
       "      <td>0.192656</td>\n",
       "      <td>-0.374300</td>\n",
       "    </tr>\n",
       "    <tr>\n",
       "      <th>avg_score_16</th>\n",
       "      <td>0.982491</td>\n",
       "      <td>0.136475</td>\n",
       "      <td>-0.820004</td>\n",
       "      <td>0.994116</td>\n",
       "      <td>0.946101</td>\n",
       "      <td>0.168907</td>\n",
       "      <td>0.953714</td>\n",
       "      <td>1.000000</td>\n",
       "      <td>0.081931</td>\n",
       "      <td>-0.604458</td>\n",
       "      <td>0.651621</td>\n",
       "      <td>0.168011</td>\n",
       "      <td>-0.385862</td>\n",
       "    </tr>\n",
       "    <tr>\n",
       "      <th>full_time_teachers</th>\n",
       "      <td>0.114626</td>\n",
       "      <td>0.966971</td>\n",
       "      <td>-0.201282</td>\n",
       "      <td>0.110210</td>\n",
       "      <td>0.109569</td>\n",
       "      <td>0.018855</td>\n",
       "      <td>0.105186</td>\n",
       "      <td>0.081931</td>\n",
       "      <td>1.000000</td>\n",
       "      <td>-0.100514</td>\n",
       "      <td>0.044505</td>\n",
       "      <td>0.140614</td>\n",
       "      <td>0.027066</td>\n",
       "    </tr>\n",
       "    <tr>\n",
       "      <th>percent_black</th>\n",
       "      <td>-0.606631</td>\n",
       "      <td>-0.136791</td>\n",
       "      <td>0.561948</td>\n",
       "      <td>-0.587216</td>\n",
       "      <td>-0.564929</td>\n",
       "      <td>-0.118310</td>\n",
       "      <td>-0.595062</td>\n",
       "      <td>-0.604458</td>\n",
       "      <td>-0.100514</td>\n",
       "      <td>1.000000</td>\n",
       "      <td>-0.870971</td>\n",
       "      <td>-0.109107</td>\n",
       "      <td>0.083822</td>\n",
       "    </tr>\n",
       "    <tr>\n",
       "      <th>percent_white</th>\n",
       "      <td>0.656134</td>\n",
       "      <td>0.092990</td>\n",
       "      <td>-0.674078</td>\n",
       "      <td>0.643632</td>\n",
       "      <td>0.612183</td>\n",
       "      <td>0.131754</td>\n",
       "      <td>0.637500</td>\n",
       "      <td>0.651621</td>\n",
       "      <td>0.044505</td>\n",
       "      <td>-0.870971</td>\n",
       "      <td>1.000000</td>\n",
       "      <td>-0.095975</td>\n",
       "      <td>-0.540421</td>\n",
       "    </tr>\n",
       "    <tr>\n",
       "      <th>percent_asian</th>\n",
       "      <td>0.156934</td>\n",
       "      <td>0.189146</td>\n",
       "      <td>-0.220604</td>\n",
       "      <td>0.145926</td>\n",
       "      <td>0.181822</td>\n",
       "      <td>0.090224</td>\n",
       "      <td>0.192656</td>\n",
       "      <td>0.168011</td>\n",
       "      <td>0.140614</td>\n",
       "      <td>-0.109107</td>\n",
       "      <td>-0.095975</td>\n",
       "      <td>1.000000</td>\n",
       "      <td>0.183831</td>\n",
       "    </tr>\n",
       "    <tr>\n",
       "      <th>percent_hispanic</th>\n",
       "      <td>-0.387348</td>\n",
       "      <td>-0.017239</td>\n",
       "      <td>0.499779</td>\n",
       "      <td>-0.395358</td>\n",
       "      <td>-0.371708</td>\n",
       "      <td>-0.090983</td>\n",
       "      <td>-0.374300</td>\n",
       "      <td>-0.385862</td>\n",
       "      <td>0.027066</td>\n",
       "      <td>0.083822</td>\n",
       "      <td>-0.540421</td>\n",
       "      <td>0.183831</td>\n",
       "      <td>1.000000</td>\n",
       "    </tr>\n",
       "  </tbody>\n",
       "</table>\n",
       "</div>"
      ],
      "text/plain": [
       "                     school_rating      size  reduced_lunch  \\\n",
       "school_rating             1.000000  0.174402      -0.818037   \n",
       "size                      0.174402  1.000000      -0.268493   \n",
       "reduced_lunch            -0.818037 -0.268493       1.000000   \n",
       "state_percentile_16       0.985476  0.165095      -0.819148   \n",
       "state_percentile_15       0.937817  0.162887      -0.825085   \n",
       "stu_teach_ratio           0.199151  0.140678      -0.201650   \n",
       "avg_score_15              0.941336  0.161788      -0.839536   \n",
       "avg_score_16              0.982491  0.136475      -0.820004   \n",
       "full_time_teachers        0.114626  0.966971      -0.201282   \n",
       "percent_black            -0.606631 -0.136791       0.561948   \n",
       "percent_white             0.656134  0.092990      -0.674078   \n",
       "percent_asian             0.156934  0.189146      -0.220604   \n",
       "percent_hispanic         -0.387348 -0.017239       0.499779   \n",
       "\n",
       "                     state_percentile_16  state_percentile_15  \\\n",
       "school_rating                   0.985476             0.937817   \n",
       "size                            0.165095             0.162887   \n",
       "reduced_lunch                  -0.819148            -0.825085   \n",
       "state_percentile_16             1.000000             0.949694   \n",
       "state_percentile_15             0.949694             1.000000   \n",
       "stu_teach_ratio                 0.181639             0.141066   \n",
       "avg_score_15                    0.949197             0.991847   \n",
       "avg_score_16                    0.994116             0.946101   \n",
       "full_time_teachers              0.110210             0.109569   \n",
       "percent_black                  -0.587216            -0.564929   \n",
       "percent_white                   0.643632             0.612183   \n",
       "percent_asian                   0.145926             0.181822   \n",
       "percent_hispanic               -0.395358            -0.371708   \n",
       "\n",
       "                     stu_teach_ratio  avg_score_15  avg_score_16  \\\n",
       "school_rating               0.199151      0.941336      0.982491   \n",
       "size                        0.140678      0.161788      0.136475   \n",
       "reduced_lunch              -0.201650     -0.839536     -0.820004   \n",
       "state_percentile_16         0.181639      0.949197      0.994116   \n",
       "state_percentile_15         0.141066      0.991847      0.946101   \n",
       "stu_teach_ratio             1.000000      0.147963      0.168907   \n",
       "avg_score_15                0.147963      1.000000      0.953714   \n",
       "avg_score_16                0.168907      0.953714      1.000000   \n",
       "full_time_teachers          0.018855      0.105186      0.081931   \n",
       "percent_black              -0.118310     -0.595062     -0.604458   \n",
       "percent_white               0.131754      0.637500      0.651621   \n",
       "percent_asian               0.090224      0.192656      0.168011   \n",
       "percent_hispanic           -0.090983     -0.374300     -0.385862   \n",
       "\n",
       "                     full_time_teachers  percent_black  percent_white  \\\n",
       "school_rating                  0.114626      -0.606631       0.656134   \n",
       "size                           0.966971      -0.136791       0.092990   \n",
       "reduced_lunch                 -0.201282       0.561948      -0.674078   \n",
       "state_percentile_16            0.110210      -0.587216       0.643632   \n",
       "state_percentile_15            0.109569      -0.564929       0.612183   \n",
       "stu_teach_ratio                0.018855      -0.118310       0.131754   \n",
       "avg_score_15                   0.105186      -0.595062       0.637500   \n",
       "avg_score_16                   0.081931      -0.604458       0.651621   \n",
       "full_time_teachers             1.000000      -0.100514       0.044505   \n",
       "percent_black                 -0.100514       1.000000      -0.870971   \n",
       "percent_white                  0.044505      -0.870971       1.000000   \n",
       "percent_asian                  0.140614      -0.109107      -0.095975   \n",
       "percent_hispanic               0.027066       0.083822      -0.540421   \n",
       "\n",
       "                     percent_asian  percent_hispanic  \n",
       "school_rating             0.156934         -0.387348  \n",
       "size                      0.189146         -0.017239  \n",
       "reduced_lunch            -0.220604          0.499779  \n",
       "state_percentile_16       0.145926         -0.395358  \n",
       "state_percentile_15       0.181822         -0.371708  \n",
       "stu_teach_ratio           0.090224         -0.090983  \n",
       "avg_score_15              0.192656         -0.374300  \n",
       "avg_score_16              0.168011         -0.385862  \n",
       "full_time_teachers        0.140614          0.027066  \n",
       "percent_black            -0.109107          0.083822  \n",
       "percent_white            -0.095975         -0.540421  \n",
       "percent_asian             1.000000          0.183831  \n",
       "percent_hispanic          0.183831          1.000000  "
      ]
     },
     "execution_count": 17,
     "metadata": {},
     "output_type": "execute_result"
    }
   ],
   "source": [
    "school.corr()"
   ]
  },
  {
   "cell_type": "code",
   "execution_count": 18,
   "metadata": {},
   "outputs": [
    {
     "name": "stdout",
     "output_type": "stream",
     "text": [
      "['school_rating' 'size' 'reduced_lunch' 'state_percentile_16'\n",
      " 'state_percentile_15' 'stu_teach_ratio' 'avg_score_15' 'avg_score_16'\n",
      " 'full_time_teachers' 'percent_black' 'percent_white' 'percent_asian'\n",
      " 'percent_hispanic']\n",
      "<class 'numpy.ndarray'>\n"
     ]
    }
   ],
   "source": [
    "cor = school.corr().columns.values\n",
    "print(cor)\n",
    "print(type(cor))"
   ]
  },
  {
   "cell_type": "code",
   "execution_count": 19,
   "metadata": {},
   "outputs": [
    {
     "data": {
      "image/png": "[encoded data removed]",
      "text/plain": [
       "<Figure size 720x576 with 2 Axes>"
      ]
     },
     "metadata": {},
     "output_type": "display_data"
    },
    {
     "data": {
      "text/plain": [
       "\"\\nDescription of the figure:\\n- Red cells indicate positive correlation.\\n- Blue cells indicate negative correlation.\\n- White cells indicate no correlation. \\n- The darker the colors, the stronger the correlation (positive or negative) between those two variables as indicated by\\n  cmap = 'coolwarm'.\\n\""
      ]
     },
     "execution_count": 19,
     "metadata": {},
     "output_type": "execute_result"
    }
   ],
   "source": [
    "\n",
    "plt.figure(figsize = (10,8))\n",
    "sns.set(style = 'whitegrid', font_scale = 1.2) \n",
    "\n",
    "sns.heatmap(data=school.corr(), xticklabels=cor, yticklabels=cor, cmap = 'coolwarm')\n",
    "plt.show()\n",
    "\n",
    "'''\n",
    "Description of the figure:\n",
    "- Red cells indicate positive correlation.\n",
    "- Blue cells indicate negative correlation.\n",
    "- White cells indicate no correlation. \n",
    "- The darker the colors, the stronger the correlation (positive or negative) between those two variables as indicated by\n",
    "  cmap = 'coolwarm'.\n",
    "'''"
   ]
  },
  {
   "cell_type": "markdown",
   "metadata": {},
   "source": [
    "## The End."
   ]
  },
  {
   "cell_type": "markdown",
   "metadata": {},
   "source": [
    "### Prepared by: Sagun Shakya\n",
    "- GITAM Institute of Science."
   ]
  }
 ],
 "metadata": {
  "kernelspec": {
   "display_name": "Python 3",
   "language": "python",
   "name": "python3"
  },
  "language_info": {
   "codemirror_mode": {
    "name": "ipython",
    "version": 3
   },
   "file_extension": ".py",
   "mimetype": "text/x-python",
   "name": "python",
   "nbconvert_exporter": "python",
   "pygments_lexer": "ipython3",
   "version": "3.7.3"
  }
 },
 "nbformat": 4,
 "nbformat_minor": 2
}
