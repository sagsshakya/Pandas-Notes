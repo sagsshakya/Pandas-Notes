{
 "cells": [
  {
   "cell_type": "markdown",
   "metadata": {},
   "source": [
    "# Statistics."
   ]
  },
  {
   "cell_type": "code",
   "execution_count": 1,
   "metadata": {},
   "outputs": [],
   "source": [
    "import pandas as pd\n",
    "import numpy as np\n",
    "import matplotlib.pyplot as plt\n",
    "import seaborn as sns\n",
    "import math\n",
    "import scipy.stats"
   ]
  },
  {
   "cell_type": "code",
   "execution_count": 2,
   "metadata": {},
   "outputs": [],
   "source": [
    "import os\n",
    "os.chdir(r'D:\\Sagun Shakya\\Python\\Data Sets\\article-resources-master\\From Good to Great Data Science, Part 1 Correlations and Confidence')"
   ]
  },
  {
   "cell_type": "code",
   "execution_count": 3,
   "metadata": {},
   "outputs": [
    {
     "data": {
      "text/html": [
       "<div>\n",
       "<style scoped>\n",
       "    .dataframe tbody tr th:only-of-type {\n",
       "        vertical-align: middle;\n",
       "    }\n",
       "\n",
       "    .dataframe tbody tr th {\n",
       "        vertical-align: top;\n",
       "    }\n",
       "\n",
       "    .dataframe thead th {\n",
       "        text-align: right;\n",
       "    }\n",
       "</style>\n",
       "<table border=\"1\" class=\"dataframe\">\n",
       "  <thead>\n",
       "    <tr style=\"text-align: right;\">\n",
       "      <th></th>\n",
       "      <th>mortality_rate</th>\n",
       "      <th>quality_rating</th>\n",
       "    </tr>\n",
       "  </thead>\n",
       "  <tbody>\n",
       "    <tr>\n",
       "      <th>0</th>\n",
       "      <td>average</td>\n",
       "      <td>1</td>\n",
       "    </tr>\n",
       "    <tr>\n",
       "      <th>1</th>\n",
       "      <td>below_average</td>\n",
       "      <td>4</td>\n",
       "    </tr>\n",
       "  </tbody>\n",
       "</table>\n",
       "</div>"
      ],
      "text/plain": [
       "  mortality_rate  quality_rating\n",
       "0        average               1\n",
       "1  below_average               4"
      ]
     },
     "execution_count": 3,
     "metadata": {},
     "output_type": "execute_result"
    }
   ],
   "source": [
    "hospital = pd.read_csv('hospital_ratings.csv', index_col = 'Unnamed: 0')\n",
    "hospital.head(2)\n",
    "\n",
    "# Each row represents a hospital."
   ]
  },
  {
   "cell_type": "code",
   "execution_count": 4,
   "metadata": {},
   "outputs": [
    {
     "data": {
      "text/plain": [
       "mortality_rate    0\n",
       "quality_rating    0\n",
       "dtype: int64"
      ]
     },
     "execution_count": 4,
     "metadata": {},
     "output_type": "execute_result"
    }
   ],
   "source": [
    "hospital.isnull().sum()"
   ]
  },
  {
   "cell_type": "code",
   "execution_count": 5,
   "metadata": {},
   "outputs": [
    {
     "data": {
      "text/plain": [
       "average          57\n",
       "below_average    35\n",
       "above_average     8\n",
       "Name: mortality_rate, dtype: int64"
      ]
     },
     "execution_count": 5,
     "metadata": {},
     "output_type": "execute_result"
    }
   ],
   "source": [
    "hospital['mortality_rate'].value_counts()"
   ]
  },
  {
   "cell_type": "code",
   "execution_count": 17,
   "metadata": {},
   "outputs": [
    {
     "data": {
      "image/png": "[encoded data removed]",
      "text/plain": [
       "<Figure size 720x576 with 1 Axes>"
      ]
     },
     "metadata": {},
     "output_type": "display_data"
    }
   ],
   "source": [
    "plt.figure( figsize = (10,8) )\n",
    "sns.set(style = 'whitegrid',  font_scale = 1.8)\n",
    "\n",
    "sns.countplot(hospital['mortality_rate'])\n",
    "plt.show()"
   ]
  },
  {
   "cell_type": "markdown",
   "metadata": {},
   "source": [
    "### Encoding the ordinal data called 'mortality_rate' as follows:\n",
    "- below_average: +1\n",
    "- average: 0\n",
    "- above_average: -1"
   ]
  },
  {
   "cell_type": "code",
   "execution_count": 7,
   "metadata": {},
   "outputs": [],
   "source": [
    "mortality_map = dict()\n",
    "mortality_map['below_average'] = 1\n",
    "mortality_map['average']=0\n",
    "mortality_map['above_average'] = -1"
   ]
  },
  {
   "cell_type": "code",
   "execution_count": 8,
   "metadata": {},
   "outputs": [],
   "source": [
    "hospital['mortality_rate_coded'] = hospital['mortality_rate'].map(mortality_map)"
   ]
  },
  {
   "cell_type": "code",
   "execution_count": 9,
   "metadata": {},
   "outputs": [
    {
     "data": {
      "text/plain": [
       " 0    57\n",
       " 1    35\n",
       "-1     8\n",
       "Name: mortality_rate_coded, dtype: int64"
      ]
     },
     "execution_count": 9,
     "metadata": {},
     "output_type": "execute_result"
    }
   ],
   "source": [
    "hospital['mortality_rate_coded'].value_counts()"
   ]
  },
  {
   "cell_type": "code",
   "execution_count": 10,
   "metadata": {},
   "outputs": [
    {
     "data": {
      "text/html": [
       "<div>\n",
       "<style scoped>\n",
       "    .dataframe tbody tr th:only-of-type {\n",
       "        vertical-align: middle;\n",
       "    }\n",
       "\n",
       "    .dataframe tbody tr th {\n",
       "        vertical-align: top;\n",
       "    }\n",
       "\n",
       "    .dataframe thead th {\n",
       "        text-align: right;\n",
       "    }\n",
       "</style>\n",
       "<table border=\"1\" class=\"dataframe\">\n",
       "  <thead>\n",
       "    <tr style=\"text-align: right;\">\n",
       "      <th></th>\n",
       "      <th>mortality_rate</th>\n",
       "      <th>quality_rating</th>\n",
       "      <th>mortality_rate_coded</th>\n",
       "    </tr>\n",
       "  </thead>\n",
       "  <tbody>\n",
       "    <tr>\n",
       "      <th>0</th>\n",
       "      <td>average</td>\n",
       "      <td>1</td>\n",
       "      <td>0</td>\n",
       "    </tr>\n",
       "    <tr>\n",
       "      <th>1</th>\n",
       "      <td>below_average</td>\n",
       "      <td>4</td>\n",
       "      <td>1</td>\n",
       "    </tr>\n",
       "    <tr>\n",
       "      <th>2</th>\n",
       "      <td>above_average</td>\n",
       "      <td>1</td>\n",
       "      <td>-1</td>\n",
       "    </tr>\n",
       "    <tr>\n",
       "      <th>3</th>\n",
       "      <td>average</td>\n",
       "      <td>4</td>\n",
       "      <td>0</td>\n",
       "    </tr>\n",
       "    <tr>\n",
       "      <th>4</th>\n",
       "      <td>average</td>\n",
       "      <td>4</td>\n",
       "      <td>0</td>\n",
       "    </tr>\n",
       "  </tbody>\n",
       "</table>\n",
       "</div>"
      ],
      "text/plain": [
       "  mortality_rate  quality_rating  mortality_rate_coded\n",
       "0        average               1                     0\n",
       "1  below_average               4                     1\n",
       "2  above_average               1                    -1\n",
       "3        average               4                     0\n",
       "4        average               4                     0"
      ]
     },
     "execution_count": 10,
     "metadata": {},
     "output_type": "execute_result"
    }
   ],
   "source": [
    "hospital.head()"
   ]
  },
  {
   "cell_type": "markdown",
   "metadata": {},
   "source": [
    "### Pearson's correlation coefficient."
   ]
  },
  {
   "cell_type": "code",
   "execution_count": 33,
   "metadata": {},
   "outputs": [
    {
     "data": {
      "text/plain": [
       "(0.47371205555642815, 6.426261109600425e-07)"
      ]
     },
     "execution_count": 33,
     "metadata": {},
     "output_type": "execute_result"
    }
   ],
   "source": [
    "from scipy.stats import pearsonr\n",
    "\n",
    "x = pearsonr(hospital['quality_rating'], hospital['mortality_rate_coded'])\n",
    "x"
   ]
  },
  {
   "cell_type": "code",
   "execution_count": 34,
   "metadata": {},
   "outputs": [
    {
     "data": {
      "text/plain": [
       "0.47371205555642815"
      ]
     },
     "execution_count": 34,
     "metadata": {},
     "output_type": "execute_result"
    }
   ],
   "source": [
    "Pearson,_ = pearsonr(hospital['quality_rating'], hospital['mortality_rate_coded'])\n",
    "\n",
    "Pearson"
   ]
  },
  {
   "cell_type": "code",
   "execution_count": 31,
   "metadata": {},
   "outputs": [
    {
     "data": {
      "text/html": [
       "<div>\n",
       "<style scoped>\n",
       "    .dataframe tbody tr th:only-of-type {\n",
       "        vertical-align: middle;\n",
       "    }\n",
       "\n",
       "    .dataframe tbody tr th {\n",
       "        vertical-align: top;\n",
       "    }\n",
       "\n",
       "    .dataframe thead th {\n",
       "        text-align: right;\n",
       "    }\n",
       "</style>\n",
       "<table border=\"1\" class=\"dataframe\">\n",
       "  <thead>\n",
       "    <tr style=\"text-align: right;\">\n",
       "      <th></th>\n",
       "      <th>quality_rating</th>\n",
       "      <th>mortality_rate_coded</th>\n",
       "    </tr>\n",
       "  </thead>\n",
       "  <tbody>\n",
       "    <tr>\n",
       "      <th>quality_rating</th>\n",
       "      <td>1.000000</td>\n",
       "      <td>0.473712</td>\n",
       "    </tr>\n",
       "    <tr>\n",
       "      <th>mortality_rate_coded</th>\n",
       "      <td>0.473712</td>\n",
       "      <td>1.000000</td>\n",
       "    </tr>\n",
       "  </tbody>\n",
       "</table>\n",
       "</div>"
      ],
      "text/plain": [
       "                      quality_rating  mortality_rate_coded\n",
       "quality_rating              1.000000              0.473712\n",
       "mortality_rate_coded        0.473712              1.000000"
      ]
     },
     "execution_count": 31,
     "metadata": {},
     "output_type": "execute_result"
    }
   ],
   "source": [
    "hospital.corr(method = 'pearson')"
   ]
  },
  {
   "cell_type": "markdown",
   "metadata": {},
   "source": [
    "#### However, this is not applicable for ordinal data. We need to use non-parametric measure like Spearman's Correlation coefficient."
   ]
  },
  {
   "cell_type": "markdown",
   "metadata": {},
   "source": [
    " ### Spearman's Correlation:\n",
    " - The calculation of Spearman’s correlation coefficient and subsequent significance testing of it requires the following data assumptions to hold:\n",
    "       -interval or ratio level or ordinal;\n",
    "       -monotonically related.\n",
    "- Note: unlike Pearson’s correlation, there is no requirement of normality and hence it is a nonparametric statistic.\n",
    "- Pearson's Correlation is sensitive to outliers as well as skewness.\n"
   ]
  },
  {
   "cell_type": "code",
   "execution_count": 18,
   "metadata": {},
   "outputs": [],
   "source": [
    "hospital.corr(method = 'spearman')"
   ]
  },
  {
   "cell_type": "code",
   "execution_count": 27,
   "metadata": {},
   "outputs": [],
   "source": [
    "from scipy.stats import spearmanr\n",
    "a= spearmanr(hospital['quality_rating'], hospital['mortality_rate_coded'])"
   ]
  },
  {
   "cell_type": "code",
   "execution_count": 28,
   "metadata": {},
   "outputs": [
    {
     "data": {
      "text/plain": [
       "SpearmanrResult(correlation=0.37909763025792015, pvalue=0.00010043425124583103)"
      ]
     },
     "execution_count": 28,
     "metadata": {},
     "output_type": "execute_result"
    }
   ],
   "source": [
    "a"
   ]
  },
  {
   "cell_type": "code",
   "execution_count": 30,
   "metadata": {},
   "outputs": [
    {
     "data": {
      "text/plain": [
       "0.37909763025792015"
      ]
     },
     "execution_count": 30,
     "metadata": {},
     "output_type": "execute_result"
    }
   ],
   "source": [
    "Spearman,_ = spearmanr(hospital['quality_rating'], hospital['mortality_rate_coded'])\n",
    "\n",
    "Spearman"
   ]
  },
  {
   "cell_type": "code",
   "execution_count": 38,
   "metadata": {},
   "outputs": [
    {
     "data": {
      "text/plain": [
       "19.972982361061657"
      ]
     },
     "execution_count": 38,
     "metadata": {},
     "output_type": "execute_result"
    }
   ],
   "source": [
    "PercentDiff = ((np.abs(Pearson - Spearman))/ Pearson) * 100\n",
    "PercentDiff"
   ]
  },
  {
   "cell_type": "markdown",
   "metadata": {},
   "source": [
    "#### Had you reported this correlation using pearson as opposed to spearman, you might have seriously mislead a customer or coworker."
   ]
  },
  {
   "cell_type": "markdown",
   "metadata": {},
   "source": [
    "# Opiod Prescription Problem."
   ]
  },
  {
   "cell_type": "markdown",
   "metadata": {},
   "source": [
    "### Problem Description:\n",
    "- prescriber_id: A random code that identifies pharmacists.\n",
    "- num_opioid_prescriptions: The number of opioid prescriptions prescribed on a given day.\n",
    "- num_prescriptions: The number of total prescriptions prescribed on a given day."
   ]
  },
  {
   "cell_type": "code",
   "execution_count": 42,
   "metadata": {},
   "outputs": [
    {
     "data": {
      "text/html": [
       "<div>\n",
       "<style scoped>\n",
       "    .dataframe tbody tr th:only-of-type {\n",
       "        vertical-align: middle;\n",
       "    }\n",
       "\n",
       "    .dataframe tbody tr th {\n",
       "        vertical-align: top;\n",
       "    }\n",
       "\n",
       "    .dataframe thead th {\n",
       "        text-align: right;\n",
       "    }\n",
       "</style>\n",
       "<table border=\"1\" class=\"dataframe\">\n",
       "  <thead>\n",
       "    <tr style=\"text-align: right;\">\n",
       "      <th></th>\n",
       "      <th>prescriber_id</th>\n",
       "      <th>num_opioid_prescriptions</th>\n",
       "      <th>num_prescriptions</th>\n",
       "    </tr>\n",
       "  </thead>\n",
       "  <tbody>\n",
       "    <tr>\n",
       "      <th>0</th>\n",
       "      <td>BDRSDDB2&amp;RA</td>\n",
       "      <td>4</td>\n",
       "      <td>7</td>\n",
       "    </tr>\n",
       "    <tr>\n",
       "      <th>1</th>\n",
       "      <td>3$N3WG4&amp;BBO</td>\n",
       "      <td>25</td>\n",
       "      <td>28</td>\n",
       "    </tr>\n",
       "    <tr>\n",
       "      <th>2</th>\n",
       "      <td>S2NGGOGBRB4</td>\n",
       "      <td>1</td>\n",
       "      <td>1</td>\n",
       "    </tr>\n",
       "    <tr>\n",
       "      <th>3</th>\n",
       "      <td>S2NGGOGBRB4</td>\n",
       "      <td>18</td>\n",
       "      <td>22</td>\n",
       "    </tr>\n",
       "    <tr>\n",
       "      <th>4</th>\n",
       "      <td>NBORABOESOI</td>\n",
       "      <td>1</td>\n",
       "      <td>1</td>\n",
       "    </tr>\n",
       "  </tbody>\n",
       "</table>\n",
       "</div>"
      ],
      "text/plain": [
       "  prescriber_id  num_opioid_prescriptions  num_prescriptions\n",
       "0   BDRSDDB2&RA                         4                  7\n",
       "1   3$N3WG4&BBO                        25                 28\n",
       "2   S2NGGOGBRB4                         1                  1\n",
       "3   S2NGGOGBRB4                        18                 22\n",
       "4   NBORABOESOI                         1                  1"
      ]
     },
     "execution_count": 42,
     "metadata": {},
     "output_type": "execute_result"
    }
   ],
   "source": [
    "prescribe = pd.read_csv(r'prescriptions.csv', index_col = 'Unnamed: 0')\n",
    "prescribe.head()"
   ]
  },
  {
   "cell_type": "code",
   "execution_count": 44,
   "metadata": {},
   "outputs": [
    {
     "data": {
      "text/plain": [
       "(150, 3)"
      ]
     },
     "execution_count": 44,
     "metadata": {},
     "output_type": "execute_result"
    }
   ],
   "source": [
    "prescribe.shape"
   ]
  },
  {
   "cell_type": "code",
   "execution_count": 46,
   "metadata": {},
   "outputs": [
    {
     "data": {
      "text/html": [
       "<div>\n",
       "<style scoped>\n",
       "    .dataframe tbody tr th:only-of-type {\n",
       "        vertical-align: middle;\n",
       "    }\n",
       "\n",
       "    .dataframe tbody tr th {\n",
       "        vertical-align: top;\n",
       "    }\n",
       "\n",
       "    .dataframe thead th {\n",
       "        text-align: right;\n",
       "    }\n",
       "</style>\n",
       "<table border=\"1\" class=\"dataframe\">\n",
       "  <thead>\n",
       "    <tr style=\"text-align: right;\">\n",
       "      <th></th>\n",
       "      <th>prescriber_id</th>\n",
       "      <th>num_opioid_prescriptions</th>\n",
       "      <th>num_prescriptions</th>\n",
       "    </tr>\n",
       "  </thead>\n",
       "  <tbody>\n",
       "    <tr>\n",
       "      <th>0</th>\n",
       "      <td>BDRSDDB2&amp;RA</td>\n",
       "      <td>4</td>\n",
       "      <td>7</td>\n",
       "    </tr>\n",
       "    <tr>\n",
       "      <th>1</th>\n",
       "      <td>3$N3WG4&amp;BBO</td>\n",
       "      <td>25</td>\n",
       "      <td>28</td>\n",
       "    </tr>\n",
       "  </tbody>\n",
       "</table>\n",
       "</div>"
      ],
      "text/plain": [
       "  prescriber_id  num_opioid_prescriptions  num_prescriptions\n",
       "0   BDRSDDB2&RA                         4                  7\n",
       "1   3$N3WG4&BBO                        25                 28"
      ]
     },
     "execution_count": 46,
     "metadata": {},
     "output_type": "execute_result"
    }
   ],
   "source": [
    "prescribe.dropna().head(2)"
   ]
  },
  {
   "cell_type": "markdown",
   "metadata": {},
   "source": [
    "#### Inspecting the number of people who are over prescribing opioids."
   ]
  },
  {
   "cell_type": "code",
   "execution_count": 51,
   "metadata": {},
   "outputs": [],
   "source": [
    "prescribe['opioid_fraction'] = (prescribe['num_opioid_prescriptions'] / prescribe['num_prescriptions'])*100"
   ]
  },
  {
   "cell_type": "code",
   "execution_count": 52,
   "metadata": {},
   "outputs": [
    {
     "data": {
      "text/html": [
       "<div>\n",
       "<style scoped>\n",
       "    .dataframe tbody tr th:only-of-type {\n",
       "        vertical-align: middle;\n",
       "    }\n",
       "\n",
       "    .dataframe tbody tr th {\n",
       "        vertical-align: top;\n",
       "    }\n",
       "\n",
       "    .dataframe thead th {\n",
       "        text-align: right;\n",
       "    }\n",
       "</style>\n",
       "<table border=\"1\" class=\"dataframe\">\n",
       "  <thead>\n",
       "    <tr style=\"text-align: right;\">\n",
       "      <th></th>\n",
       "      <th>prescriber_id</th>\n",
       "      <th>num_opioid_prescriptions</th>\n",
       "      <th>num_prescriptions</th>\n",
       "      <th>opioid_fraction</th>\n",
       "    </tr>\n",
       "  </thead>\n",
       "  <tbody>\n",
       "    <tr>\n",
       "      <th>0</th>\n",
       "      <td>BDRSDDB2&amp;RA</td>\n",
       "      <td>4</td>\n",
       "      <td>7</td>\n",
       "      <td>57.142857</td>\n",
       "    </tr>\n",
       "    <tr>\n",
       "      <th>1</th>\n",
       "      <td>3$N3WG4&amp;BBO</td>\n",
       "      <td>25</td>\n",
       "      <td>28</td>\n",
       "      <td>89.285714</td>\n",
       "    </tr>\n",
       "    <tr>\n",
       "      <th>2</th>\n",
       "      <td>S2NGGOGBRB4</td>\n",
       "      <td>1</td>\n",
       "      <td>1</td>\n",
       "      <td>100.000000</td>\n",
       "    </tr>\n",
       "    <tr>\n",
       "      <th>3</th>\n",
       "      <td>S2NGGOGBRB4</td>\n",
       "      <td>18</td>\n",
       "      <td>22</td>\n",
       "      <td>81.818182</td>\n",
       "    </tr>\n",
       "    <tr>\n",
       "      <th>4</th>\n",
       "      <td>NBORABOESOI</td>\n",
       "      <td>1</td>\n",
       "      <td>1</td>\n",
       "      <td>100.000000</td>\n",
       "    </tr>\n",
       "    <tr>\n",
       "      <th>5</th>\n",
       "      <td>4O4EAGWROGB</td>\n",
       "      <td>20</td>\n",
       "      <td>30</td>\n",
       "      <td>66.666667</td>\n",
       "    </tr>\n",
       "    <tr>\n",
       "      <th>6</th>\n",
       "      <td>WPOARS4GW9I</td>\n",
       "      <td>11</td>\n",
       "      <td>12</td>\n",
       "      <td>91.666667</td>\n",
       "    </tr>\n",
       "    <tr>\n",
       "      <th>7</th>\n",
       "      <td>PDS$GG9GOGA</td>\n",
       "      <td>29</td>\n",
       "      <td>37</td>\n",
       "      <td>78.378378</td>\n",
       "    </tr>\n",
       "    <tr>\n",
       "      <th>8</th>\n",
       "      <td>BBP34DOGADB</td>\n",
       "      <td>1</td>\n",
       "      <td>1</td>\n",
       "      <td>100.000000</td>\n",
       "    </tr>\n",
       "    <tr>\n",
       "      <th>9</th>\n",
       "      <td>S$BO&amp;OGO99O</td>\n",
       "      <td>16</td>\n",
       "      <td>19</td>\n",
       "      <td>84.210526</td>\n",
       "    </tr>\n",
       "    <tr>\n",
       "      <th>10</th>\n",
       "      <td>EDB3BB2AGAA</td>\n",
       "      <td>1</td>\n",
       "      <td>1</td>\n",
       "      <td>100.000000</td>\n",
       "    </tr>\n",
       "    <tr>\n",
       "      <th>11</th>\n",
       "      <td>ASG$GDGBBGA</td>\n",
       "      <td>24</td>\n",
       "      <td>27</td>\n",
       "      <td>88.888889</td>\n",
       "    </tr>\n",
       "    <tr>\n",
       "      <th>12</th>\n",
       "      <td>OOIOEAIOSSR</td>\n",
       "      <td>16</td>\n",
       "      <td>20</td>\n",
       "      <td>80.000000</td>\n",
       "    </tr>\n",
       "    <tr>\n",
       "      <th>13</th>\n",
       "      <td>BSDN9OOGBIG</td>\n",
       "      <td>1</td>\n",
       "      <td>1</td>\n",
       "      <td>100.000000</td>\n",
       "    </tr>\n",
       "    <tr>\n",
       "      <th>14</th>\n",
       "      <td>WGOBDRDRAN$</td>\n",
       "      <td>1</td>\n",
       "      <td>1</td>\n",
       "      <td>100.000000</td>\n",
       "    </tr>\n",
       "  </tbody>\n",
       "</table>\n",
       "</div>"
      ],
      "text/plain": [
       "   prescriber_id  num_opioid_prescriptions  num_prescriptions  opioid_fraction\n",
       "0    BDRSDDB2&RA                         4                  7        57.142857\n",
       "1    3$N3WG4&BBO                        25                 28        89.285714\n",
       "2    S2NGGOGBRB4                         1                  1       100.000000\n",
       "3    S2NGGOGBRB4                        18                 22        81.818182\n",
       "4    NBORABOESOI                         1                  1       100.000000\n",
       "5    4O4EAGWROGB                        20                 30        66.666667\n",
       "6    WPOARS4GW9I                        11                 12        91.666667\n",
       "7    PDS$GG9GOGA                        29                 37        78.378378\n",
       "8    BBP34DOGADB                         1                  1       100.000000\n",
       "9    S$BO&OGO99O                        16                 19        84.210526\n",
       "10   EDB3BB2AGAA                         1                  1       100.000000\n",
       "11   ASG$GDGBBGA                        24                 27        88.888889\n",
       "12   OOIOEAIOSSR                        16                 20        80.000000\n",
       "13   BSDN9OOGBIG                         1                  1       100.000000\n",
       "14   WGOBDRDRAN$                         1                  1       100.000000"
      ]
     },
     "execution_count": 52,
     "metadata": {},
     "output_type": "execute_result"
    }
   ],
   "source": [
    "prescribe.head(15)"
   ]
  },
  {
   "cell_type": "code",
   "execution_count": 54,
   "metadata": {},
   "outputs": [
    {
     "data": {
      "image/png": "[encoded data removed]",
      "text/plain": [
       "<Figure size 720x576 with 1 Axes>"
      ]
     },
     "metadata": {},
     "output_type": "display_data"
    }
   ],
   "source": [
    "plt.figure( figsize = (10,8) )\n",
    "sns.set(style = 'whitegrid',  font_scale = 1.2)\n",
    "\n",
    "sns.scatterplot(x = prescribe['num_prescriptions'], y = prescribe['num_opioid_prescriptions'] )\n",
    "plt.show()"
   ]
  },
  {
   "cell_type": "code",
   "execution_count": 57,
   "metadata": {},
   "outputs": [
    {
     "data": {
      "image/png": "[encoded data removed]",
      "text/plain": [
       "<Figure size 720x576 with 1 Axes>"
      ]
     },
     "metadata": {},
     "output_type": "display_data"
    }
   ],
   "source": [
    "plt.figure( figsize = (10,8) )\n",
    "sns.set(style = 'whitegrid',  font_scale = 1.2)\n",
    "\n",
    "p = sns.regplot(x = prescribe['num_prescriptions'], y = prescribe['num_opioid_prescriptions'],\n",
    "                color = 'r' )\n",
    "plt.show()"
   ]
  },
  {
   "cell_type": "code",
   "execution_count": 59,
   "metadata": {},
   "outputs": [],
   "source": [
    "x_val = p.get_lines()[0].get_xdata()    #Returns a numpy array of x_values.\n",
    "y_val = p.get_lines()[0].get_ydata()    #Returns a numpy array of y_values."
   ]
  },
  {
   "cell_type": "code",
   "execution_count": 65,
   "metadata": {},
   "outputs": [],
   "source": [
    "from scipy.stats import linregress\n",
    "\n",
    "slope, intercept, r_value, p_value, stdErr = linregress(x_val, y_val)"
   ]
  },
  {
   "cell_type": "code",
   "execution_count": 66,
   "metadata": {},
   "outputs": [
    {
     "data": {
      "text/plain": [
       "0.7843199719658177"
      ]
     },
     "execution_count": 66,
     "metadata": {},
     "output_type": "execute_result"
    }
   ],
   "source": [
    "slope"
   ]
  },
  {
   "cell_type": "code",
   "execution_count": 67,
   "metadata": {},
   "outputs": [
    {
     "data": {
      "text/plain": [
       "-0.17133823400578585"
      ]
     },
     "execution_count": 67,
     "metadata": {},
     "output_type": "execute_result"
    }
   ],
   "source": [
    "intercept"
   ]
  },
  {
   "cell_type": "code",
   "execution_count": 69,
   "metadata": {},
   "outputs": [
    {
     "data": {
      "text/plain": [
       "1.0"
      ]
     },
     "execution_count": 69,
     "metadata": {},
     "output_type": "execute_result"
    }
   ],
   "source": [
    "R_squared = r_value ** 2\n",
    "R_squared"
   ]
  },
  {
   "cell_type": "markdown",
   "metadata": {},
   "source": [
    "### Inspecting using opioid fraction."
   ]
  },
  {
   "cell_type": "code",
   "execution_count": 78,
   "metadata": {},
   "outputs": [
    {
     "data": {
      "image/png": "[encoded data removed]",
      "text/plain": [
       "<Figure size 720x576 with 1 Axes>"
      ]
     },
     "metadata": {},
     "output_type": "display_data"
    }
   ],
   "source": [
    "plt.figure( figsize = (10,8) )\n",
    "sns.set(style = 'whitegrid',  font_scale = 1.2)\n",
    "sns.distplot(prescribe['opioid_fraction'], kde= 0, color = 'orange')\n",
    "plt.ylabel('frequency')\n",
    "plt.show()"
   ]
  },
  {
   "cell_type": "markdown",
   "metadata": {},
   "source": [
    "#### Many doctors prescribe opioids."
   ]
  },
  {
   "cell_type": "markdown",
   "metadata": {},
   "source": [
    "### Grouping by ID's."
   ]
  },
  {
   "cell_type": "code",
   "execution_count": 79,
   "metadata": {},
   "outputs": [],
   "source": [
    "prescribers = prescribe.groupby('prescriber_id').agg('sum')"
   ]
  },
  {
   "cell_type": "code",
   "execution_count": 81,
   "metadata": {},
   "outputs": [
    {
     "data": {
      "text/html": [
       "<div>\n",
       "<style scoped>\n",
       "    .dataframe tbody tr th:only-of-type {\n",
       "        vertical-align: middle;\n",
       "    }\n",
       "\n",
       "    .dataframe tbody tr th {\n",
       "        vertical-align: top;\n",
       "    }\n",
       "\n",
       "    .dataframe thead th {\n",
       "        text-align: right;\n",
       "    }\n",
       "</style>\n",
       "<table border=\"1\" class=\"dataframe\">\n",
       "  <thead>\n",
       "    <tr style=\"text-align: right;\">\n",
       "      <th></th>\n",
       "      <th>num_opioid_prescriptions</th>\n",
       "      <th>num_prescriptions</th>\n",
       "      <th>opioid_fraction</th>\n",
       "    </tr>\n",
       "    <tr>\n",
       "      <th>prescriber_id</th>\n",
       "      <th></th>\n",
       "      <th></th>\n",
       "      <th></th>\n",
       "    </tr>\n",
       "  </thead>\n",
       "  <tbody>\n",
       "    <tr>\n",
       "      <th>$39AGIIOGO2</th>\n",
       "      <td>15</td>\n",
       "      <td>22</td>\n",
       "      <td>68.181818</td>\n",
       "    </tr>\n",
       "    <tr>\n",
       "      <th>$DG2GOGDD9D</th>\n",
       "      <td>14</td>\n",
       "      <td>18</td>\n",
       "      <td>176.470588</td>\n",
       "    </tr>\n",
       "    <tr>\n",
       "      <th>$OBDNSADD96</th>\n",
       "      <td>37</td>\n",
       "      <td>57</td>\n",
       "      <td>280.384615</td>\n",
       "    </tr>\n",
       "    <tr>\n",
       "      <th>&amp;$4OO2EW$OB</th>\n",
       "      <td>16</td>\n",
       "      <td>20</td>\n",
       "      <td>80.000000</td>\n",
       "    </tr>\n",
       "    <tr>\n",
       "      <th>&amp;64O2OASRNA</th>\n",
       "      <td>22</td>\n",
       "      <td>23</td>\n",
       "      <td>195.454545</td>\n",
       "    </tr>\n",
       "  </tbody>\n",
       "</table>\n",
       "</div>"
      ],
      "text/plain": [
       "               num_opioid_prescriptions  num_prescriptions  opioid_fraction\n",
       "prescriber_id                                                              \n",
       "$39AGIIOGO2                          15                 22        68.181818\n",
       "$DG2GOGDD9D                          14                 18       176.470588\n",
       "$OBDNSADD96                          37                 57       280.384615\n",
       "&$4OO2EW$OB                          16                 20        80.000000\n",
       "&64O2OASRNA                          22                 23       195.454545"
      ]
     },
     "execution_count": 81,
     "metadata": {},
     "output_type": "execute_result"
    }
   ],
   "source": [
    "prescribers.head()"
   ]
  },
  {
   "cell_type": "code",
   "execution_count": 82,
   "metadata": {},
   "outputs": [],
   "source": [
    "del prescribers['opioid_fraction']"
   ]
  },
  {
   "cell_type": "code",
   "execution_count": 83,
   "metadata": {},
   "outputs": [],
   "source": [
    "prescribers['percentage'] = (prescribers['num_opioid_prescriptions'] / prescribers['num_prescriptions']) * 100 "
   ]
  },
  {
   "cell_type": "code",
   "execution_count": 84,
   "metadata": {},
   "outputs": [
    {
     "data": {
      "text/html": [
       "<div>\n",
       "<style scoped>\n",
       "    .dataframe tbody tr th:only-of-type {\n",
       "        vertical-align: middle;\n",
       "    }\n",
       "\n",
       "    .dataframe tbody tr th {\n",
       "        vertical-align: top;\n",
       "    }\n",
       "\n",
       "    .dataframe thead th {\n",
       "        text-align: right;\n",
       "    }\n",
       "</style>\n",
       "<table border=\"1\" class=\"dataframe\">\n",
       "  <thead>\n",
       "    <tr style=\"text-align: right;\">\n",
       "      <th></th>\n",
       "      <th>num_opioid_prescriptions</th>\n",
       "      <th>num_prescriptions</th>\n",
       "      <th>percentage</th>\n",
       "    </tr>\n",
       "    <tr>\n",
       "      <th>prescriber_id</th>\n",
       "      <th></th>\n",
       "      <th></th>\n",
       "      <th></th>\n",
       "    </tr>\n",
       "  </thead>\n",
       "  <tbody>\n",
       "    <tr>\n",
       "      <th>$39AGIIOGO2</th>\n",
       "      <td>15</td>\n",
       "      <td>22</td>\n",
       "      <td>68.181818</td>\n",
       "    </tr>\n",
       "    <tr>\n",
       "      <th>$DG2GOGDD9D</th>\n",
       "      <td>14</td>\n",
       "      <td>18</td>\n",
       "      <td>77.777778</td>\n",
       "    </tr>\n",
       "    <tr>\n",
       "      <th>$OBDNSADD96</th>\n",
       "      <td>37</td>\n",
       "      <td>57</td>\n",
       "      <td>64.912281</td>\n",
       "    </tr>\n",
       "    <tr>\n",
       "      <th>&amp;$4OO2EW$OB</th>\n",
       "      <td>16</td>\n",
       "      <td>20</td>\n",
       "      <td>80.000000</td>\n",
       "    </tr>\n",
       "    <tr>\n",
       "      <th>&amp;64O2OASRNA</th>\n",
       "      <td>22</td>\n",
       "      <td>23</td>\n",
       "      <td>95.652174</td>\n",
       "    </tr>\n",
       "  </tbody>\n",
       "</table>\n",
       "</div>"
      ],
      "text/plain": [
       "               num_opioid_prescriptions  num_prescriptions  percentage\n",
       "prescriber_id                                                         \n",
       "$39AGIIOGO2                          15                 22   68.181818\n",
       "$DG2GOGDD9D                          14                 18   77.777778\n",
       "$OBDNSADD96                          37                 57   64.912281\n",
       "&$4OO2EW$OB                          16                 20   80.000000\n",
       "&64O2OASRNA                          22                 23   95.652174"
      ]
     },
     "execution_count": 84,
     "metadata": {},
     "output_type": "execute_result"
    }
   ],
   "source": [
    "prescribers.head()"
   ]
  },
  {
   "cell_type": "code",
   "execution_count": 85,
   "metadata": {},
   "outputs": [
    {
     "data": {
      "text/plain": [
       "100.0"
      ]
     },
     "execution_count": 85,
     "metadata": {},
     "output_type": "execute_result"
    }
   ],
   "source": [
    "prescribers.percentage.max()"
   ]
  },
  {
   "cell_type": "code",
   "execution_count": 90,
   "metadata": {},
   "outputs": [
    {
     "data": {
      "text/html": [
       "<div>\n",
       "<style scoped>\n",
       "    .dataframe tbody tr th:only-of-type {\n",
       "        vertical-align: middle;\n",
       "    }\n",
       "\n",
       "    .dataframe tbody tr th {\n",
       "        vertical-align: top;\n",
       "    }\n",
       "\n",
       "    .dataframe thead th {\n",
       "        text-align: right;\n",
       "    }\n",
       "</style>\n",
       "<table border=\"1\" class=\"dataframe\">\n",
       "  <thead>\n",
       "    <tr style=\"text-align: right;\">\n",
       "      <th></th>\n",
       "      <th>prescriber_id</th>\n",
       "      <th>num_opioid_prescriptions</th>\n",
       "      <th>num_prescriptions</th>\n",
       "      <th>percentage</th>\n",
       "    </tr>\n",
       "  </thead>\n",
       "  <tbody>\n",
       "    <tr>\n",
       "      <th>0</th>\n",
       "      <td>$39AGIIOGO2</td>\n",
       "      <td>15</td>\n",
       "      <td>22</td>\n",
       "      <td>68.181818</td>\n",
       "    </tr>\n",
       "    <tr>\n",
       "      <th>1</th>\n",
       "      <td>$DG2GOGDD9D</td>\n",
       "      <td>14</td>\n",
       "      <td>18</td>\n",
       "      <td>77.777778</td>\n",
       "    </tr>\n",
       "    <tr>\n",
       "      <th>2</th>\n",
       "      <td>$OBDNSADD96</td>\n",
       "      <td>37</td>\n",
       "      <td>57</td>\n",
       "      <td>64.912281</td>\n",
       "    </tr>\n",
       "    <tr>\n",
       "      <th>3</th>\n",
       "      <td>&amp;$4OO2EW$OB</td>\n",
       "      <td>16</td>\n",
       "      <td>20</td>\n",
       "      <td>80.000000</td>\n",
       "    </tr>\n",
       "    <tr>\n",
       "      <th>4</th>\n",
       "      <td>&amp;64O2OASRNA</td>\n",
       "      <td>22</td>\n",
       "      <td>23</td>\n",
       "      <td>95.652174</td>\n",
       "    </tr>\n",
       "    <tr>\n",
       "      <th>5</th>\n",
       "      <td>&amp;AGO$DEOPRR</td>\n",
       "      <td>47</td>\n",
       "      <td>58</td>\n",
       "      <td>81.034483</td>\n",
       "    </tr>\n",
       "    <tr>\n",
       "      <th>6</th>\n",
       "      <td>&amp;OS2DN4DADO</td>\n",
       "      <td>1</td>\n",
       "      <td>1</td>\n",
       "      <td>100.000000</td>\n",
       "    </tr>\n",
       "    <tr>\n",
       "      <th>7</th>\n",
       "      <td>&amp;SOEB4RODOG</td>\n",
       "      <td>39</td>\n",
       "      <td>51</td>\n",
       "      <td>76.470588</td>\n",
       "    </tr>\n",
       "    <tr>\n",
       "      <th>8</th>\n",
       "      <td>2BDPWROOBOR</td>\n",
       "      <td>13</td>\n",
       "      <td>17</td>\n",
       "      <td>76.470588</td>\n",
       "    </tr>\n",
       "    <tr>\n",
       "      <th>9</th>\n",
       "      <td>3$N3WG4&amp;BBO</td>\n",
       "      <td>32</td>\n",
       "      <td>39</td>\n",
       "      <td>82.051282</td>\n",
       "    </tr>\n",
       "    <tr>\n",
       "      <th>10</th>\n",
       "      <td>326G4D6ORWO</td>\n",
       "      <td>1</td>\n",
       "      <td>1</td>\n",
       "      <td>100.000000</td>\n",
       "    </tr>\n",
       "    <tr>\n",
       "      <th>11</th>\n",
       "      <td>3NG4ONN46GO</td>\n",
       "      <td>2</td>\n",
       "      <td>2</td>\n",
       "      <td>100.000000</td>\n",
       "    </tr>\n",
       "    <tr>\n",
       "      <th>12</th>\n",
       "      <td>3S36SB&amp;ORN6</td>\n",
       "      <td>18</td>\n",
       "      <td>22</td>\n",
       "      <td>81.818182</td>\n",
       "    </tr>\n",
       "    <tr>\n",
       "      <th>13</th>\n",
       "      <td>4BBA2OGP9G6</td>\n",
       "      <td>1</td>\n",
       "      <td>1</td>\n",
       "      <td>100.000000</td>\n",
       "    </tr>\n",
       "    <tr>\n",
       "      <th>14</th>\n",
       "      <td>4BOSRODA$GI</td>\n",
       "      <td>49</td>\n",
       "      <td>52</td>\n",
       "      <td>94.230769</td>\n",
       "    </tr>\n",
       "    <tr>\n",
       "      <th>15</th>\n",
       "      <td>4G6EIEBSRPS</td>\n",
       "      <td>27</td>\n",
       "      <td>34</td>\n",
       "      <td>79.411765</td>\n",
       "    </tr>\n",
       "    <tr>\n",
       "      <th>16</th>\n",
       "      <td>4O4EAGWROGB</td>\n",
       "      <td>21</td>\n",
       "      <td>31</td>\n",
       "      <td>67.741935</td>\n",
       "    </tr>\n",
       "    <tr>\n",
       "      <th>17</th>\n",
       "      <td>4R9RDN2G6D9</td>\n",
       "      <td>1</td>\n",
       "      <td>1</td>\n",
       "      <td>100.000000</td>\n",
       "    </tr>\n",
       "    <tr>\n",
       "      <th>18</th>\n",
       "      <td>4R9WBG4SONO</td>\n",
       "      <td>8</td>\n",
       "      <td>22</td>\n",
       "      <td>36.363636</td>\n",
       "    </tr>\n",
       "    <tr>\n",
       "      <th>19</th>\n",
       "      <td>4WA6NBOO&amp;DB</td>\n",
       "      <td>1</td>\n",
       "      <td>1</td>\n",
       "      <td>100.000000</td>\n",
       "    </tr>\n",
       "    <tr>\n",
       "      <th>20</th>\n",
       "      <td>64AGGG6A9RA</td>\n",
       "      <td>34</td>\n",
       "      <td>39</td>\n",
       "      <td>87.179487</td>\n",
       "    </tr>\n",
       "    <tr>\n",
       "      <th>21</th>\n",
       "      <td>6BBSPODOSOD</td>\n",
       "      <td>17</td>\n",
       "      <td>27</td>\n",
       "      <td>62.962963</td>\n",
       "    </tr>\n",
       "    <tr>\n",
       "      <th>22</th>\n",
       "      <td>6DSBA2DOD3B</td>\n",
       "      <td>11</td>\n",
       "      <td>19</td>\n",
       "      <td>57.894737</td>\n",
       "    </tr>\n",
       "    <tr>\n",
       "      <th>23</th>\n",
       "      <td>6GG9DOSGBP6</td>\n",
       "      <td>13</td>\n",
       "      <td>20</td>\n",
       "      <td>65.000000</td>\n",
       "    </tr>\n",
       "    <tr>\n",
       "      <th>24</th>\n",
       "      <td>6GGGA4DPW&amp;D</td>\n",
       "      <td>4</td>\n",
       "      <td>9</td>\n",
       "      <td>44.444444</td>\n",
       "    </tr>\n",
       "    <tr>\n",
       "      <th>25</th>\n",
       "      <td>6W349S&amp;GD&amp;N</td>\n",
       "      <td>1</td>\n",
       "      <td>1</td>\n",
       "      <td>100.000000</td>\n",
       "    </tr>\n",
       "    <tr>\n",
       "      <th>26</th>\n",
       "      <td>9ASI3O2B3GR</td>\n",
       "      <td>11</td>\n",
       "      <td>12</td>\n",
       "      <td>91.666667</td>\n",
       "    </tr>\n",
       "    <tr>\n",
       "      <th>27</th>\n",
       "      <td>9R3BBNGOSDR</td>\n",
       "      <td>1</td>\n",
       "      <td>1</td>\n",
       "      <td>100.000000</td>\n",
       "    </tr>\n",
       "    <tr>\n",
       "      <th>28</th>\n",
       "      <td>ASG$GDGBBGA</td>\n",
       "      <td>35</td>\n",
       "      <td>47</td>\n",
       "      <td>74.468085</td>\n",
       "    </tr>\n",
       "    <tr>\n",
       "      <th>29</th>\n",
       "      <td>B$AREPGD&amp;RG</td>\n",
       "      <td>35</td>\n",
       "      <td>49</td>\n",
       "      <td>71.428571</td>\n",
       "    </tr>\n",
       "    <tr>\n",
       "      <th>...</th>\n",
       "      <td>...</td>\n",
       "      <td>...</td>\n",
       "      <td>...</td>\n",
       "      <td>...</td>\n",
       "    </tr>\n",
       "    <tr>\n",
       "      <th>63</th>\n",
       "      <td>OOSRDIO2ASW</td>\n",
       "      <td>28</td>\n",
       "      <td>35</td>\n",
       "      <td>80.000000</td>\n",
       "    </tr>\n",
       "    <tr>\n",
       "      <th>64</th>\n",
       "      <td>ORDG4S3GSWO</td>\n",
       "      <td>23</td>\n",
       "      <td>31</td>\n",
       "      <td>74.193548</td>\n",
       "    </tr>\n",
       "    <tr>\n",
       "      <th>65</th>\n",
       "      <td>ORPB9E2SBPO</td>\n",
       "      <td>6</td>\n",
       "      <td>11</td>\n",
       "      <td>54.545455</td>\n",
       "    </tr>\n",
       "    <tr>\n",
       "      <th>66</th>\n",
       "      <td>OWGW4PB4S94</td>\n",
       "      <td>25</td>\n",
       "      <td>31</td>\n",
       "      <td>80.645161</td>\n",
       "    </tr>\n",
       "    <tr>\n",
       "      <th>67</th>\n",
       "      <td>PBIOORDIBSG</td>\n",
       "      <td>50</td>\n",
       "      <td>64</td>\n",
       "      <td>78.125000</td>\n",
       "    </tr>\n",
       "    <tr>\n",
       "      <th>68</th>\n",
       "      <td>PBNDDAEOOPP</td>\n",
       "      <td>50</td>\n",
       "      <td>70</td>\n",
       "      <td>71.428571</td>\n",
       "    </tr>\n",
       "    <tr>\n",
       "      <th>69</th>\n",
       "      <td>PDS$GG9GOGA</td>\n",
       "      <td>48</td>\n",
       "      <td>61</td>\n",
       "      <td>78.688525</td>\n",
       "    </tr>\n",
       "    <tr>\n",
       "      <th>70</th>\n",
       "      <td>PGWSD49S6OW</td>\n",
       "      <td>1</td>\n",
       "      <td>1</td>\n",
       "      <td>100.000000</td>\n",
       "    </tr>\n",
       "    <tr>\n",
       "      <th>71</th>\n",
       "      <td>PO&amp;SOORGOPE</td>\n",
       "      <td>8</td>\n",
       "      <td>15</td>\n",
       "      <td>53.333333</td>\n",
       "    </tr>\n",
       "    <tr>\n",
       "      <th>72</th>\n",
       "      <td>PR$RRSDOAGW</td>\n",
       "      <td>11</td>\n",
       "      <td>13</td>\n",
       "      <td>84.615385</td>\n",
       "    </tr>\n",
       "    <tr>\n",
       "      <th>73</th>\n",
       "      <td>R424SG$2DEE</td>\n",
       "      <td>1</td>\n",
       "      <td>1</td>\n",
       "      <td>100.000000</td>\n",
       "    </tr>\n",
       "    <tr>\n",
       "      <th>74</th>\n",
       "      <td>R4DGWEOR2WG</td>\n",
       "      <td>7</td>\n",
       "      <td>10</td>\n",
       "      <td>70.000000</td>\n",
       "    </tr>\n",
       "    <tr>\n",
       "      <th>75</th>\n",
       "      <td>RA&amp;RI23GSOO</td>\n",
       "      <td>22</td>\n",
       "      <td>28</td>\n",
       "      <td>78.571429</td>\n",
       "    </tr>\n",
       "    <tr>\n",
       "      <th>76</th>\n",
       "      <td>RADBOGNS4DS</td>\n",
       "      <td>24</td>\n",
       "      <td>26</td>\n",
       "      <td>92.307692</td>\n",
       "    </tr>\n",
       "    <tr>\n",
       "      <th>77</th>\n",
       "      <td>RBEOAOWBRAA</td>\n",
       "      <td>2</td>\n",
       "      <td>2</td>\n",
       "      <td>100.000000</td>\n",
       "    </tr>\n",
       "    <tr>\n",
       "      <th>78</th>\n",
       "      <td>RGD9&amp;PEEGGO</td>\n",
       "      <td>29</td>\n",
       "      <td>38</td>\n",
       "      <td>76.315789</td>\n",
       "    </tr>\n",
       "    <tr>\n",
       "      <th>79</th>\n",
       "      <td>RNA6SBBAG6B</td>\n",
       "      <td>18</td>\n",
       "      <td>19</td>\n",
       "      <td>94.736842</td>\n",
       "    </tr>\n",
       "    <tr>\n",
       "      <th>80</th>\n",
       "      <td>RO4GO&amp;6S$B2</td>\n",
       "      <td>16</td>\n",
       "      <td>23</td>\n",
       "      <td>69.565217</td>\n",
       "    </tr>\n",
       "    <tr>\n",
       "      <th>81</th>\n",
       "      <td>S$BO&amp;OGO99O</td>\n",
       "      <td>33</td>\n",
       "      <td>41</td>\n",
       "      <td>80.487805</td>\n",
       "    </tr>\n",
       "    <tr>\n",
       "      <th>82</th>\n",
       "      <td>S2NGGOGBRB4</td>\n",
       "      <td>39</td>\n",
       "      <td>45</td>\n",
       "      <td>86.666667</td>\n",
       "    </tr>\n",
       "    <tr>\n",
       "      <th>83</th>\n",
       "      <td>SBO3WOOBIBP</td>\n",
       "      <td>22</td>\n",
       "      <td>23</td>\n",
       "      <td>95.652174</td>\n",
       "    </tr>\n",
       "    <tr>\n",
       "      <th>84</th>\n",
       "      <td>SEB6O6DPG3G</td>\n",
       "      <td>43</td>\n",
       "      <td>54</td>\n",
       "      <td>79.629630</td>\n",
       "    </tr>\n",
       "    <tr>\n",
       "      <th>85</th>\n",
       "      <td>SGSGRIIBDBA</td>\n",
       "      <td>31</td>\n",
       "      <td>33</td>\n",
       "      <td>93.939394</td>\n",
       "    </tr>\n",
       "    <tr>\n",
       "      <th>86</th>\n",
       "      <td>SNGS64GENRP</td>\n",
       "      <td>23</td>\n",
       "      <td>29</td>\n",
       "      <td>79.310345</td>\n",
       "    </tr>\n",
       "    <tr>\n",
       "      <th>87</th>\n",
       "      <td>SPBRGEG$6BP</td>\n",
       "      <td>19</td>\n",
       "      <td>29</td>\n",
       "      <td>65.517241</td>\n",
       "    </tr>\n",
       "    <tr>\n",
       "      <th>88</th>\n",
       "      <td>SRD$GDSD$G$</td>\n",
       "      <td>26</td>\n",
       "      <td>37</td>\n",
       "      <td>70.270270</td>\n",
       "    </tr>\n",
       "    <tr>\n",
       "      <th>89</th>\n",
       "      <td>W3NBOIPD3$O</td>\n",
       "      <td>1</td>\n",
       "      <td>1</td>\n",
       "      <td>100.000000</td>\n",
       "    </tr>\n",
       "    <tr>\n",
       "      <th>90</th>\n",
       "      <td>W3O$ROB3$R4</td>\n",
       "      <td>13</td>\n",
       "      <td>21</td>\n",
       "      <td>61.904762</td>\n",
       "    </tr>\n",
       "    <tr>\n",
       "      <th>91</th>\n",
       "      <td>WGOBDRDRAN$</td>\n",
       "      <td>28</td>\n",
       "      <td>35</td>\n",
       "      <td>80.000000</td>\n",
       "    </tr>\n",
       "    <tr>\n",
       "      <th>92</th>\n",
       "      <td>WPOARS4GW9I</td>\n",
       "      <td>11</td>\n",
       "      <td>12</td>\n",
       "      <td>91.666667</td>\n",
       "    </tr>\n",
       "  </tbody>\n",
       "</table>\n",
       "<p>93 rows × 4 columns</p>\n",
       "</div>"
      ],
      "text/plain": [
       "   prescriber_id  num_opioid_prescriptions  num_prescriptions  percentage\n",
       "0    $39AGIIOGO2                        15                 22   68.181818\n",
       "1    $DG2GOGDD9D                        14                 18   77.777778\n",
       "2    $OBDNSADD96                        37                 57   64.912281\n",
       "3    &$4OO2EW$OB                        16                 20   80.000000\n",
       "4    &64O2OASRNA                        22                 23   95.652174\n",
       "5    &AGO$DEOPRR                        47                 58   81.034483\n",
       "6    &OS2DN4DADO                         1                  1  100.000000\n",
       "7    &SOEB4RODOG                        39                 51   76.470588\n",
       "8    2BDPWROOBOR                        13                 17   76.470588\n",
       "9    3$N3WG4&BBO                        32                 39   82.051282\n",
       "10   326G4D6ORWO                         1                  1  100.000000\n",
       "11   3NG4ONN46GO                         2                  2  100.000000\n",
       "12   3S36SB&ORN6                        18                 22   81.818182\n",
       "13   4BBA2OGP9G6                         1                  1  100.000000\n",
       "14   4BOSRODA$GI                        49                 52   94.230769\n",
       "15   4G6EIEBSRPS                        27                 34   79.411765\n",
       "16   4O4EAGWROGB                        21                 31   67.741935\n",
       "17   4R9RDN2G6D9                         1                  1  100.000000\n",
       "18   4R9WBG4SONO                         8                 22   36.363636\n",
       "19   4WA6NBOO&DB                         1                  1  100.000000\n",
       "20   64AGGG6A9RA                        34                 39   87.179487\n",
       "21   6BBSPODOSOD                        17                 27   62.962963\n",
       "22   6DSBA2DOD3B                        11                 19   57.894737\n",
       "23   6GG9DOSGBP6                        13                 20   65.000000\n",
       "24   6GGGA4DPW&D                         4                  9   44.444444\n",
       "25   6W349S&GD&N                         1                  1  100.000000\n",
       "26   9ASI3O2B3GR                        11                 12   91.666667\n",
       "27   9R3BBNGOSDR                         1                  1  100.000000\n",
       "28   ASG$GDGBBGA                        35                 47   74.468085\n",
       "29   B$AREPGD&RG                        35                 49   71.428571\n",
       "..           ...                       ...                ...         ...\n",
       "63   OOSRDIO2ASW                        28                 35   80.000000\n",
       "64   ORDG4S3GSWO                        23                 31   74.193548\n",
       "65   ORPB9E2SBPO                         6                 11   54.545455\n",
       "66   OWGW4PB4S94                        25                 31   80.645161\n",
       "67   PBIOORDIBSG                        50                 64   78.125000\n",
       "68   PBNDDAEOOPP                        50                 70   71.428571\n",
       "69   PDS$GG9GOGA                        48                 61   78.688525\n",
       "70   PGWSD49S6OW                         1                  1  100.000000\n",
       "71   PO&SOORGOPE                         8                 15   53.333333\n",
       "72   PR$RRSDOAGW                        11                 13   84.615385\n",
       "73   R424SG$2DEE                         1                  1  100.000000\n",
       "74   R4DGWEOR2WG                         7                 10   70.000000\n",
       "75   RA&RI23GSOO                        22                 28   78.571429\n",
       "76   RADBOGNS4DS                        24                 26   92.307692\n",
       "77   RBEOAOWBRAA                         2                  2  100.000000\n",
       "78   RGD9&PEEGGO                        29                 38   76.315789\n",
       "79   RNA6SBBAG6B                        18                 19   94.736842\n",
       "80   RO4GO&6S$B2                        16                 23   69.565217\n",
       "81   S$BO&OGO99O                        33                 41   80.487805\n",
       "82   S2NGGOGBRB4                        39                 45   86.666667\n",
       "83   SBO3WOOBIBP                        22                 23   95.652174\n",
       "84   SEB6O6DPG3G                        43                 54   79.629630\n",
       "85   SGSGRIIBDBA                        31                 33   93.939394\n",
       "86   SNGS64GENRP                        23                 29   79.310345\n",
       "87   SPBRGEG$6BP                        19                 29   65.517241\n",
       "88   SRD$GDSD$G$                        26                 37   70.270270\n",
       "89   W3NBOIPD3$O                         1                  1  100.000000\n",
       "90   W3O$ROB3$R4                        13                 21   61.904762\n",
       "91   WGOBDRDRAN$                        28                 35   80.000000\n",
       "92   WPOARS4GW9I                        11                 12   91.666667\n",
       "\n",
       "[93 rows x 4 columns]"
      ]
     },
     "execution_count": 90,
     "metadata": {},
     "output_type": "execute_result"
    }
   ],
   "source": [
    "prescribers.reset_index()"
   ]
  },
  {
   "cell_type": "code",
   "execution_count": 96,
   "metadata": {},
   "outputs": [],
   "source": [
    "prescribers = prescribers.sort_values('percentage', ascending = 0)"
   ]
  },
  {
   "cell_type": "code",
   "execution_count": 97,
   "metadata": {},
   "outputs": [
    {
     "data": {
      "text/html": [
       "<div>\n",
       "<style scoped>\n",
       "    .dataframe tbody tr th:only-of-type {\n",
       "        vertical-align: middle;\n",
       "    }\n",
       "\n",
       "    .dataframe tbody tr th {\n",
       "        vertical-align: top;\n",
       "    }\n",
       "\n",
       "    .dataframe thead th {\n",
       "        text-align: right;\n",
       "    }\n",
       "</style>\n",
       "<table border=\"1\" class=\"dataframe\">\n",
       "  <thead>\n",
       "    <tr style=\"text-align: right;\">\n",
       "      <th></th>\n",
       "      <th>num_opioid_prescriptions</th>\n",
       "      <th>num_prescriptions</th>\n",
       "      <th>percentage</th>\n",
       "    </tr>\n",
       "    <tr>\n",
       "      <th>prescriber_id</th>\n",
       "      <th></th>\n",
       "      <th></th>\n",
       "      <th></th>\n",
       "    </tr>\n",
       "  </thead>\n",
       "  <tbody>\n",
       "    <tr>\n",
       "      <th>DE$W$6WBN9W</th>\n",
       "      <td>1</td>\n",
       "      <td>1</td>\n",
       "      <td>100.000000</td>\n",
       "    </tr>\n",
       "    <tr>\n",
       "      <th>3NG4ONN46GO</th>\n",
       "      <td>2</td>\n",
       "      <td>2</td>\n",
       "      <td>100.000000</td>\n",
       "    </tr>\n",
       "    <tr>\n",
       "      <th>6W349S&amp;GD&amp;N</th>\n",
       "      <td>1</td>\n",
       "      <td>1</td>\n",
       "      <td>100.000000</td>\n",
       "    </tr>\n",
       "    <tr>\n",
       "      <th>4WA6NBOO&amp;DB</th>\n",
       "      <td>1</td>\n",
       "      <td>1</td>\n",
       "      <td>100.000000</td>\n",
       "    </tr>\n",
       "    <tr>\n",
       "      <th>NBORABOESOI</th>\n",
       "      <td>1</td>\n",
       "      <td>1</td>\n",
       "      <td>100.000000</td>\n",
       "    </tr>\n",
       "    <tr>\n",
       "      <th>4R9RDN2G6D9</th>\n",
       "      <td>1</td>\n",
       "      <td>1</td>\n",
       "      <td>100.000000</td>\n",
       "    </tr>\n",
       "    <tr>\n",
       "      <th>OAIGB9OGSE$</th>\n",
       "      <td>1</td>\n",
       "      <td>1</td>\n",
       "      <td>100.000000</td>\n",
       "    </tr>\n",
       "    <tr>\n",
       "      <th>PGWSD49S6OW</th>\n",
       "      <td>1</td>\n",
       "      <td>1</td>\n",
       "      <td>100.000000</td>\n",
       "    </tr>\n",
       "    <tr>\n",
       "      <th>BO&amp;2BGDNGO&amp;</th>\n",
       "      <td>1</td>\n",
       "      <td>1</td>\n",
       "      <td>100.000000</td>\n",
       "    </tr>\n",
       "    <tr>\n",
       "      <th>4BBA2OGP9G6</th>\n",
       "      <td>1</td>\n",
       "      <td>1</td>\n",
       "      <td>100.000000</td>\n",
       "    </tr>\n",
       "    <tr>\n",
       "      <th>G$$RSN6NDOD</th>\n",
       "      <td>1</td>\n",
       "      <td>1</td>\n",
       "      <td>100.000000</td>\n",
       "    </tr>\n",
       "    <tr>\n",
       "      <th>R424SG$2DEE</th>\n",
       "      <td>1</td>\n",
       "      <td>1</td>\n",
       "      <td>100.000000</td>\n",
       "    </tr>\n",
       "    <tr>\n",
       "      <th>326G4D6ORWO</th>\n",
       "      <td>1</td>\n",
       "      <td>1</td>\n",
       "      <td>100.000000</td>\n",
       "    </tr>\n",
       "    <tr>\n",
       "      <th>DEWG$NPBODS</th>\n",
       "      <td>1</td>\n",
       "      <td>1</td>\n",
       "      <td>100.000000</td>\n",
       "    </tr>\n",
       "    <tr>\n",
       "      <th>RBEOAOWBRAA</th>\n",
       "      <td>2</td>\n",
       "      <td>2</td>\n",
       "      <td>100.000000</td>\n",
       "    </tr>\n",
       "    <tr>\n",
       "      <th>&amp;OS2DN4DADO</th>\n",
       "      <td>1</td>\n",
       "      <td>1</td>\n",
       "      <td>100.000000</td>\n",
       "    </tr>\n",
       "    <tr>\n",
       "      <th>9R3BBNGOSDR</th>\n",
       "      <td>1</td>\n",
       "      <td>1</td>\n",
       "      <td>100.000000</td>\n",
       "    </tr>\n",
       "    <tr>\n",
       "      <th>W3NBOIPD3$O</th>\n",
       "      <td>1</td>\n",
       "      <td>1</td>\n",
       "      <td>100.000000</td>\n",
       "    </tr>\n",
       "    <tr>\n",
       "      <th>G4$AGE&amp;RRAG</th>\n",
       "      <td>1</td>\n",
       "      <td>1</td>\n",
       "      <td>100.000000</td>\n",
       "    </tr>\n",
       "    <tr>\n",
       "      <th>SBO3WOOBIBP</th>\n",
       "      <td>22</td>\n",
       "      <td>23</td>\n",
       "      <td>95.652174</td>\n",
       "    </tr>\n",
       "  </tbody>\n",
       "</table>\n",
       "</div>"
      ],
      "text/plain": [
       "               num_opioid_prescriptions  num_prescriptions  percentage\n",
       "prescriber_id                                                         \n",
       "DE$W$6WBN9W                           1                  1  100.000000\n",
       "3NG4ONN46GO                           2                  2  100.000000\n",
       "6W349S&GD&N                           1                  1  100.000000\n",
       "4WA6NBOO&DB                           1                  1  100.000000\n",
       "NBORABOESOI                           1                  1  100.000000\n",
       "4R9RDN2G6D9                           1                  1  100.000000\n",
       "OAIGB9OGSE$                           1                  1  100.000000\n",
       "PGWSD49S6OW                           1                  1  100.000000\n",
       "BO&2BGDNGO&                           1                  1  100.000000\n",
       "4BBA2OGP9G6                           1                  1  100.000000\n",
       "G$$RSN6NDOD                           1                  1  100.000000\n",
       "R424SG$2DEE                           1                  1  100.000000\n",
       "326G4D6ORWO                           1                  1  100.000000\n",
       "DEWG$NPBODS                           1                  1  100.000000\n",
       "RBEOAOWBRAA                           2                  2  100.000000\n",
       "&OS2DN4DADO                           1                  1  100.000000\n",
       "9R3BBNGOSDR                           1                  1  100.000000\n",
       "W3NBOIPD3$O                           1                  1  100.000000\n",
       "G4$AGE&RRAG                           1                  1  100.000000\n",
       "SBO3WOOBIBP                          22                 23   95.652174"
      ]
     },
     "execution_count": 97,
     "metadata": {},
     "output_type": "execute_result"
    }
   ],
   "source": [
    "prescribers.head(20)"
   ]
  },
  {
   "cell_type": "markdown",
   "metadata": {},
   "source": [
    "# The End."
   ]
  }
 ],
 "metadata": {
  "kernelspec": {
   "display_name": "Python 3",
   "language": "python",
   "name": "python3"
  },
  "language_info": {
   "codemirror_mode": {
    "name": "ipython",
    "version": 3
   },
   "file_extension": ".py",
   "mimetype": "text/x-python",
   "name": "python",
   "nbconvert_exporter": "python",
   "pygments_lexer": "ipython3",
   "version": "3.7.3"
  }
 },
 "nbformat": 4,
 "nbformat_minor": 2
}
