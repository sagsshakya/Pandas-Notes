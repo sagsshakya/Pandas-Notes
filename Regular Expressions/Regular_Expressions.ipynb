{
 "cells": [
  {
   "cell_type": "markdown",
   "metadata": {},
   "source": [
    "# Regular Expressions.\n",
    "<p>Prepared by: <a href = 'https://github.com/sagsshakya'>Sagun Shakya</a></p>\n",
    "- GITAM Institute of Science."
   ]
  },
  {
   "cell_type": "markdown",
   "metadata": {},
   "source": [
    "### Standard Libraries.\n",
    "\n",
    "- Regular expressions.\n",
    "    - to validate the Indian mobile.\n",
    "    - to validate the emailID.\n",
    "    - to validate the username.\n",
    "    - to valiate the password.\n",
    "    \n",
    "- Understanding the regular expressions.\n",
    "    - [0 - 9] -- any digit matching.\n",
    "    - [a - z] -- any lowercase matching.\n",
    "    - [A - Z] -- any uppercase matching.\n",
    "    - cap symbol is used to represent the start of "
   ]
  },
  {
   "cell_type": "markdown",
   "metadata": {},
   "source": [
    "### Function to test the two digit number as input."
   ]
  },
  {
   "cell_type": "code",
   "execution_count": 1,
   "metadata": {},
   "outputs": [
    {
     "data": {
      "text/plain": [
       "False"
      ]
     },
     "execution_count": 1,
     "metadata": {},
     "output_type": "execute_result"
    }
   ],
   "source": [
    "\n",
    "\n",
    "import re\n",
    "def twoDigitMatch(n):\n",
    "    pattern = '^[0-9]{2}$'\n",
    "    n = str(n)\n",
    "    \n",
    "    if re.match(pattern,n):\n",
    "        return True\n",
    "    else:\n",
    "        return False\n",
    "\n",
    "twoDigitMatch(136)"
   ]
  },
  {
   "cell_type": "markdown",
   "metadata": {},
   "source": [
    "### Validating username for min 5 and max 12 characters."
   ]
  },
  {
   "cell_type": "code",
   "execution_count": 2,
   "metadata": {},
   "outputs": [
    {
     "name": "stdout",
     "output_type": "stream",
     "text": [
      "True\n",
      "False\n"
     ]
    }
   ],
   "source": [
    "import re\n",
    "\n",
    "def validateusername(name):\n",
    "    pattern = '^[a-zA-Z]{4,11}$'\n",
    "    if re.match(pattern, name):\n",
    "        return True\n",
    "    else:\n",
    "        return False\n",
    "    \n",
    "print(validateusername('Sagun'))\n",
    "print(validateusername('gitampythnprogramming'))"
   ]
  },
  {
   "cell_type": "markdown",
   "metadata": {},
   "source": [
    "### Regular Expressions.\n",
    "- \\   Used to drop the special meaning of character\n",
    "    following it (discussed below)\n",
    "- []  Represent a character class\n",
    "- ^   Matches the beginning\n",
    "- $   Matches the end\n",
    "- .   Matches any character except newline\n",
    "- ?   Matches zero or one occurrence.\n",
    "- |   Means OR (Matches with any of the characters\n",
    "    separated by it.\n",
    "- Asterisk(*)   Any number of occurrences (including 0 occurrences)\n",
    "- plus(+)   One ore more occurrences\n",
    "-  {}  Indicate number of occurrences of a preceding RE \n",
    "    to match.\n",
    "- ()  Enclose a group of REs\n",
    "\n",
    "    - \\d   Matches any decimal digit, this is equivalent\n",
    "     to the set class [0-9].\n",
    "    - \\D   Matches any non-digit character.\n",
    "    - \\s   Matches any whitespace character.\n",
    "    - \\S   Matches any non-whitespace character\n",
    "    - \\w   Matches any alphanumeric character, this is\n",
    "     equivalent to the class [a-zA-Z0-9_].\n",
    "    - \\W   Matches any non-alphanumeric character. \n",
    "    - \\A - Matches if the specified characters are at the start of a string.\n",
    "    - \\b - Matches if the specified characters are at the beginning or end of a word.\n",
    "    - \\B - Opposite of \\b. Matches if the specified characters are not at the beginning or end of a word.\n",
    "    - \\Z - Matches if the specified characters are at the end of a string.\n",
    "    "
   ]
  },
  {
   "cell_type": "code",
   "execution_count": 1,
   "metadata": {},
   "outputs": [],
   "source": [
    "import re"
   ]
  },
  {
   "cell_type": "code",
   "execution_count": 2,
   "metadata": {},
   "outputs": [
    {
     "name": "stdout",
     "output_type": "stream",
     "text": [
      "['1', '0', '2', '0']\n"
     ]
    }
   ],
   "source": [
    "#digits only\n",
    "p = re.compile('\\d')\n",
    "print(p.findall('I went to bed at 10 a.m yesterday on 20th September.'))"
   ]
  },
  {
   "cell_type": "code",
   "execution_count": 3,
   "metadata": {},
   "outputs": [
    {
     "name": "stdout",
     "output_type": "stream",
     "text": [
      "['10', '20']\n"
     ]
    }
   ],
   "source": [
    "#digits in groups\n",
    "q = re.compile('\\d+')\n",
    "print(q.findall('I went to bed at 10 a.m yesterday on 20th September.'))"
   ]
  },
  {
   "cell_type": "code",
   "execution_count": 4,
   "metadata": {},
   "outputs": [
    {
     "name": "stdout",
     "output_type": "stream",
     "text": [
      "['S', 'U', 'p', 'e', 'r', 'm', 'a', 'r', 'i', 'o', 'b', 'r', 'o', 's', '1', '9', '9', '0', 's', 't', 'i', 'l', 'l', 'a', 'l', 'i', 'v', 'e', '2', '1', '2', '3', '1', '0', '0']\n"
     ]
    }
   ],
   "source": [
    "#alphanumeric characters.\n",
    "r = re.compile(('\\w'))\n",
    "print(r.findall('SUper mario bros 1990 still alive 2123 $100'))"
   ]
  },
  {
   "cell_type": "code",
   "execution_count": 5,
   "metadata": {},
   "outputs": [
    {
     "name": "stdout",
     "output_type": "stream",
     "text": [
      "['SUper', 'mario', 'bros', '1990', 'still', 'alive', '2123', '100']\n"
     ]
    }
   ],
   "source": [
    "#alphanumeric characters in groups.\n",
    "p = re.compile('\\w+')\n",
    "print(p.findall('SUper mario bros 1990 still alive 2123 $100'))"
   ]
  },
  {
   "cell_type": "code",
   "execution_count": 8,
   "metadata": {},
   "outputs": [
    {
     "name": "stdout",
     "output_type": "stream",
     "text": [
      "[' ', ' ', ' ', ' ', ' ', ' ', ' ', '$', '.', ' ', '@', '#']\n"
     ]
    }
   ],
   "source": [
    "#non - alphanumeric characters.\n",
    "q = re.compile('\\W')\n",
    "print(q.findall('SUper mario bros 1990 still alive 2123 $100. @#'))"
   ]
  },
  {
   "cell_type": "code",
   "execution_count": 9,
   "metadata": {},
   "outputs": [
    {
     "name": "stdout",
     "output_type": "stream",
     "text": [
      "[' ', ' ', ' ', ' ', ' ', ' ', ' $', '. @#']\n"
     ]
    }
   ],
   "source": [
    "#non - alphanumeric characters in groups.\n",
    "q = re.compile('\\W+')\n",
    "print(q.findall('SUper mario bros 1990 still alive 2123 $100. @#'))"
   ]
  },
  {
   "cell_type": "code",
   "execution_count": 11,
   "metadata": {},
   "outputs": [
    {
     "name": "stdout",
     "output_type": "stream",
     "text": [
      "['ab', 'a', 'ab', 'ab', 'ab', 'abb', 'ab', 'ab', 'ab', 'ab', 'ab', 'ab', 'ab', 'ab', 'ab', 'ab', 'abb', 'ab', 'ab', 'ab', 'ab', 'ab']\n",
      "['abb', 'abbb', 'a', 'abb']\n"
     ]
    }
   ],
   "source": [
    "#'a' followed by any number of 'bb.\n",
    "p = re.compile('ab*')\n",
    "print(p.findall('abaababababbabababababababababababbababababab'))\n",
    "print(p.findall('abb abbb aabb'))"
   ]
  },
  {
   "cell_type": "code",
   "execution_count": 12,
   "metadata": {},
   "outputs": [
    {
     "data": {
      "text/plain": [
       "True"
      ]
     },
     "execution_count": 12,
     "metadata": {},
     "output_type": "execute_result"
    }
   ],
   "source": [
    "#Five letters in a given word which starts with 'a' and ends with 's'.\n",
    "def check(word):\n",
    "    pattern = '^a...s$'\n",
    "    result = re.match(pattern, word)\n",
    "    \n",
    "    if result:\n",
    "        return True\n",
    "    else:\n",
    "        return False\n",
    "    \n",
    "check('alias')"
   ]
  },
  {
   "cell_type": "markdown",
   "metadata": {},
   "source": [
    "### Function split().\n",
    "- Syntax:\n",
    "    - re.split(pattern, string, maxsplit=0, flags=0)"
   ]
  },
  {
   "cell_type": "code",
   "execution_count": 13,
   "metadata": {},
   "outputs": [],
   "source": [
    "import re\n",
    "from re import split"
   ]
  },
  {
   "cell_type": "code",
   "execution_count": 14,
   "metadata": {},
   "outputs": [
    {
     "name": "stdout",
     "output_type": "stream",
     "text": [
      "['blah', 'blah', 'blah', 'nah', 'nah', 'nah', 'lo', 'lol', 'ty']\n"
     ]
    }
   ],
   "source": [
    "'''\n",
    "Function split()\n",
    "Split string by the occurrences of a character or a pattern, \n",
    "upon finding that pattern, the remaining characters from the string are returned as part of the resulting\n",
    "list.\n",
    "\n",
    "'''\n",
    "\n",
    "splittedList = split('\\W+', 'blah blah blah nah nah nah $ lo - lol ^ty')\n",
    "print(splittedList)"
   ]
  },
  {
   "cell_type": "code",
   "execution_count": 15,
   "metadata": {},
   "outputs": [
    {
     "name": "stdout",
     "output_type": "stream",
     "text": [
      "['', 'y, ', 'oy oh ', 'oy, ', 'om', ' h', 'r', '']\n",
      "['A', 'y, Boy oh ', 'oy, ', 'om', ' h', 'r', '']\n"
     ]
    }
   ],
   "source": [
    "# 'Boy' and 'boy' will be treated same when flags = re.IGNORECASE\n",
    "# SPlit the string variable when it finds any letters between a and f.\n",
    "print(re.split('[a-f]+', 'Aey, Boy oh boy, come here', flags = re.IGNORECASE))\n",
    "print(re.split('[a-f]+', 'Aey, Boy oh boy, come here'))"
   ]
  },
  {
   "cell_type": "markdown",
   "metadata": {},
   "source": [
    "### Function sub().\n",
    "- Syntax:\n",
    "     - re.sub(pattern, replace, string, count=0, flags=0)"
   ]
  },
  {
   "cell_type": "code",
   "execution_count": 16,
   "metadata": {},
   "outputs": [
    {
     "name": "stdout",
     "output_type": "stream",
     "text": [
      "S~*ject has ~*er booked already\n"
     ]
    }
   ],
   "source": [
    "# Regular Expression pattern 'ub' matches the string at \"Subject\" and \"Uber\". \n",
    "# As the CASE has been ignored, using Flag, 'ub' should match twice with the string \n",
    "# Upon matching, 'ub' is replaced by '~*' in \"Subject\", and in \"Uber\", 'Ub' is replaced. \n",
    "print(re.sub('ub', '~*' , 'Subject has Uber booked already', flags = re.IGNORECASE)) "
   ]
  },
  {
   "cell_type": "code",
   "execution_count": 17,
   "metadata": {},
   "outputs": [
    {
     "name": "stdout",
     "output_type": "stream",
     "text": [
      "S~*ject has Uber booked already\n"
     ]
    }
   ],
   "source": [
    "# Consider the Case Senstivity, 'Ub' in \"Uber\", will not be reaplced. \n",
    "print(re.sub('ub', '~*' , 'Subject has Uber booked already')) "
   ]
  },
  {
   "cell_type": "code",
   "execution_count": 18,
   "metadata": {},
   "outputs": [
    {
     "name": "stdout",
     "output_type": "stream",
     "text": [
      "S~*ject has Uber booked already\n"
     ]
    }
   ],
   "source": [
    "# As count has been given value 1, the maximum times replacement occurs is 1 \n",
    "print(re.sub('ub', '~*' , 'Subject has Uber booked already', count=1, flags = re.IGNORECASE)) "
   ]
  },
  {
   "cell_type": "code",
   "execution_count": 19,
   "metadata": {},
   "outputs": [
    {
     "name": "stdout",
     "output_type": "stream",
     "text": [
      "Baked Beans & Spam\n"
     ]
    }
   ],
   "source": [
    "# 'r' before the patter denotes RE, \\s is for start and end of a String. \n",
    "print(re.sub(r'\\sAND\\s', ' & ', 'Baked Beans And Spam', flags=re.IGNORECASE)) "
   ]
  },
  {
   "cell_type": "markdown",
   "metadata": {},
   "source": [
    "#### Defining a function  that checks if a pattern matches a word."
   ]
  },
  {
   "cell_type": "code",
   "execution_count": 26,
   "metadata": {},
   "outputs": [],
   "source": [
    "import re\n",
    "def check(pattern, mystr):\n",
    "    result = re.match(pattern, mystr)\n",
    "    p = re.compile(pattern)\n",
    "    \n",
    "    if result:\n",
    "        print(p.findall(mystr))\n",
    "        return True\n",
    "        \n",
    "    else:\n",
    "        return False"
   ]
  },
  {
   "cell_type": "code",
   "execution_count": 27,
   "metadata": {},
   "outputs": [
    {
     "name": "stdout",
     "output_type": "stream",
     "text": [
      "['alias']\n",
      "True\n",
      "False\n"
     ]
    }
   ],
   "source": [
    "#any five letter string starting with a and ending with s.\n",
    "p = '^a...s$'\n",
    "print(check(p, 'alias'))\n",
    "print(check(p, 'aliaaas'))"
   ]
  },
  {
   "cell_type": "code",
   "execution_count": 29,
   "metadata": {},
   "outputs": [
    {
     "name": "stdout",
     "output_type": "stream",
     "text": [
      "False \n",
      "\n",
      "['maaaaaan']\n",
      "True\n"
     ]
    }
   ],
   "source": [
    "#The star symbol * matches zero or more occurrences of the pattern left to it.\n",
    "p1 = 'ma*n'\n",
    "a11 = 'maaaain'             #No because of 'i'.\n",
    "a12 = 'maaaaaan'            #Match.\n",
    "\n",
    "print(check(p1, a11), '\\n')\n",
    "print(check(p1, a12))"
   ]
  },
  {
   "cell_type": "code",
   "execution_count": 33,
   "metadata": {},
   "outputs": [
    {
     "name": "stdout",
     "output_type": "stream",
     "text": [
      "False \n",
      "\n",
      "False\n"
     ]
    }
   ],
   "source": [
    "#The plus symbol + matches one or more occurrences of the pattern left to it.\n",
    "p2 = 'ma+n'\n",
    "a21 = 'maaaain'             #No.\n",
    "a22 = 'maman'            # no Match.\n",
    "\n",
    "print(check(p2, a21), '\\n')\n",
    "print(check(p2, a22))"
   ]
  },
  {
   "cell_type": "code",
   "execution_count": 34,
   "metadata": {},
   "outputs": [
    {
     "name": "stdout",
     "output_type": "stream",
     "text": [
      "False \n",
      "\n",
      "['man']\n",
      "True\n"
     ]
    }
   ],
   "source": [
    "#The question mark symbol ? matches zero or one occurrence of the pattern left to it.\n",
    "p3 = 'ma?n'\n",
    "a31 = 'maaaan'             #No.\n",
    "a32 = 'man'                #Match.\n",
    "\n",
    "print(check(p3, a31), '\\n')\n",
    "print(check(p3, a32))"
   ]
  },
  {
   "cell_type": "code",
   "execution_count": 36,
   "metadata": {},
   "outputs": [
    {
     "name": "stdout",
     "output_type": "stream",
     "text": [
      "['9841', '123', '34', '4567', '89']\n",
      "True \n",
      "\n",
      "['9841', '123', '34', '4567', '89']\n",
      "True\n"
     ]
    }
   ],
   "source": [
    "#This RegEx [0-9]{2, 4} matches at least 2 digits but not more than 4 digits.\n",
    "p41 = '[0-9]{2,4}'\n",
    "#Same can be done with the following.\n",
    "p42 = '\\d{2,4}'\n",
    "a41 = '9841sagun123asddd5df34sqqq456789'  #3 matches   9841, 123, 34\n",
    "\n",
    "print(check(p41, a41), '\\n')\n",
    "print(check(p42, a41))"
   ]
  },
  {
   "cell_type": "code",
   "execution_count": 37,
   "metadata": {},
   "outputs": [
    {
     "name": "stdout",
     "output_type": "stream",
     "text": [
      "False \n",
      "\n"
     ]
    }
   ],
   "source": [
    "#Alternation (OR operator).\n",
    "p51 = 'a|b'\n",
    "a51 = 'winds of change blows.'  #2 matches.\n",
    "\n",
    "print(check(p51, a51), '\\n')"
   ]
  },
  {
   "cell_type": "code",
   "execution_count": 38,
   "metadata": {},
   "outputs": [
    {
     "name": "stdout",
     "output_type": "stream",
     "text": [
      "['9841']\n",
      "True \n",
      "\n",
      "['9808']\n",
      "True \n",
      "\n",
      "['']\n",
      "True\n"
     ]
    }
   ],
   "source": [
    "#Parentheses () is used to group sub-patterns.\n",
    "# For example, (a|b|c)xz match any string that matches either a or b or c followed by xz.\n",
    "\n",
    "#The following reg ex validates that the first four numbers are either 9841 or 9808 \n",
    "#followed by any six digits.\n",
    "p52 = '(9841|9808)*\\d{6}'\n",
    "a52 = '9841372490'  #match\n",
    "a53 = '9808666666'  #match\n",
    "a54 = '9803702365'  #no match\n",
    "print(check(p52, a52), '\\n')\n",
    "print(check(p52, a53), '\\n')\n",
    "print(check(p52, a54))"
   ]
  },
  {
   "cell_type": "markdown",
   "metadata": {},
   "source": [
    "### 1. Write a Python program to check that a string contains only a certain set of characters (in this case a-z, A-Z and 0-9)."
   ]
  },
  {
   "cell_type": "code",
   "execution_count": 41,
   "metadata": {},
   "outputs": [
    {
     "name": "stdout",
     "output_type": "stream",
     "text": [
      "Enter a string: %^%$\n",
      "False\n"
     ]
    }
   ],
   "source": [
    "import re\n",
    "str = input('Enter a string: ')\n",
    "\n",
    "pattern = '[0-9]|[a-z]|[A-Z]'    #Also we can use '\\w'.\n",
    "result = re.match(pattern,str)\n",
    "if result:\n",
    "    print(True)\n",
    "else:\n",
    "    print(False)"
   ]
  },
  {
   "cell_type": "markdown",
   "metadata": {},
   "source": [
    "# The End."
   ]
  }
 ],
 "metadata": {
  "kernelspec": {
   "display_name": "Python 3",
   "language": "python",
   "name": "python3"
  },
  "language_info": {
   "codemirror_mode": {
    "name": "ipython",
    "version": 3
   },
   "file_extension": ".py",
   "mimetype": "text/x-python",
   "name": "python",
   "nbconvert_exporter": "python",
   "pygments_lexer": "ipython3",
   "version": "3.7.2"
  }
 },
 "nbformat": 4,
 "nbformat_minor": 2
}
